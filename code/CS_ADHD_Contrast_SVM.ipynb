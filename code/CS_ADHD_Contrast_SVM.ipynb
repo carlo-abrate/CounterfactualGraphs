{
 "cells": [
  {
   "cell_type": "markdown",
   "metadata": {},
   "source": [
    "# Counterfactual Search"
   ]
  },
  {
   "cell_type": "markdown",
   "metadata": {},
   "source": [
    "0. Brain Networks\n",
    "1. Black-box function\n",
    "2. Counterfactual Search: DS - Dataset Search\n",
    "3. Counterfactual Search: OFS - Oblivious Forward Search\n",
    "3. Counterfactual Search: DFS - Data-driven Forward Search\n",
    "4. Counterfactual Search: OBS - Oblivious Backward Search\n",
    "4. Counterfactual Search: DBS - Data-driven Backward Search"
   ]
  },
  {
   "cell_type": "markdown",
   "metadata": {
    "id": "V9WbSxCJB7yU"
   },
   "source": [
    "## 0. Brain Networks: from correlation matices to graphs"
   ]
  },
  {
   "cell_type": "code",
   "execution_count": 1,
   "metadata": {
    "colab": {
     "base_uri": "https://localhost:8080/"
    },
    "id": "a5hnVrqAB6Oh",
    "outputId": "8a526b47-83f3-4e48-df4f-7fb5dea4f820"
   },
   "outputs": [],
   "source": [
    "#import graph\n",
    "import os\n",
    "import numpy as np\n",
    "import csv\n",
    "import matplotlib\n",
    "import matplotlib.pyplot as plt\n",
    "\n",
    "\n",
    "data = {}\n",
    "path = '../data/ADHD/ADHD200_CC200/'\n",
    "i=0\n",
    "map_dict = {}\n",
    "files = os.listdir(path)\n",
    "files = sorted(files)\n",
    "for filename in files:\n",
    "    if 'DS_Store' not in filename:\n",
    "        with open(path+filename, mode='r') as txt_file: \n",
    "            name = filename.split('.')[0]\n",
    "            file_type = name.split('_')[-3]\n",
    "            if file_type == 'connectivity':\n",
    "                #print(i,' ',name)\n",
    "                name = '_'.join(name.split('_')[:-3])\n",
    "                lines = txt_file.readlines()\n",
    "                m = []\n",
    "                for l in lines:\n",
    "                    m.append([float(el) for el in l.split(' ')])\n",
    "                data[name] = np.array(m)\n",
    "                map_dict[i] = [name]\n",
    "                i+=1"
   ]
  },
  {
   "cell_type": "code",
   "execution_count": 2,
   "metadata": {
    "colab": {
     "base_uri": "https://localhost:8080/"
    },
    "id": "F0i87UblE34m",
    "outputId": "1c938386-e2d2-4b8f-d153-81caa782916c"
   },
   "outputs": [
    {
     "name": "stdout",
     "output_type": "stream",
     "text": [
      "There are 520 graphs\n",
      "Each with dimension  (190, 190)\n"
     ]
    }
   ],
   "source": [
    "print('There are {} graphs'.format(len(list(data.keys()))))\n",
    "print('Each with dimension ', data['NYU_1567356'].shape)"
   ]
  },
  {
   "cell_type": "code",
   "execution_count": 3,
   "metadata": {
    "id": "bNsl5UDpE4Dg"
   },
   "outputs": [],
   "source": [
    "path = '../data/ADHD/'\n",
    "labels_file = 'subject_labels_list.txt'\n",
    "labels_l = []\n",
    "j=0\n",
    "with open(path+labels_file, mode='r') as txt_file:\n",
    "    lines = txt_file.readlines()\n",
    "    for l in lines:\n",
    "        labels_l.append(l)\n",
    "        if l[0]=='A':\n",
    "            map_dict[j].append(1)\n",
    "        else:\n",
    "            map_dict[j].append(0)\n",
    "        j+=1"
   ]
  },
  {
   "cell_type": "code",
   "execution_count": 4,
   "metadata": {
    "colab": {
     "base_uri": "https://localhost:8080/",
     "height": 311
    },
    "id": "RzTMf0nAE4Ps",
    "outputId": "430490c6-dd75-4db7-cf95-a1920677843a"
   },
   "outputs": [
    {
     "data": {
      "image/png": "[encoded data removed]",
      "text/plain": [
       "<Figure size 432x288 with 1 Axes>"
      ]
     },
     "metadata": {
      "needs_background": "light"
     },
     "output_type": "display_data"
    }
   ],
   "source": [
    "# Histogram\n",
    "num_bins = 30\n",
    "\n",
    "fig, ax = plt.subplots()\n",
    "n, bins, patches = plt.hist(labels_l, density=False)\n",
    "\n",
    "# add a 'best fit' line\n",
    "#ax.set_title('''Total Edges for each dataset's graph''')\n",
    "\n",
    "# Tweak spacing to prevent clipping of ylabel\n",
    "fig.tight_layout()\n",
    "#plt.legend()\n",
    "plt.ylabel('Frequency')\n",
    "plt.xlabel('Classes')\n",
    "#plt.savefig('Histogram_edges.png') # to save the plot\n",
    "plt.show()"
   ]
  },
  {
   "cell_type": "code",
   "execution_count": 5,
   "metadata": {
    "id": "zmBRcDhYE4ds"
   },
   "outputs": [],
   "source": [
    "# Put labels with graphs\n",
    "for k,v in map_dict.items():\n",
    "    data[v[0]] = (v[1],data[v[0]])"
   ]
  },
  {
   "cell_type": "markdown",
   "metadata": {
    "id": "0u334ixiL_11"
   },
   "source": [
    "## 0. Brain Network: network preprocessing"
   ]
  },
  {
   "cell_type": "code",
   "execution_count": 6,
   "metadata": {
    "id": "q1GCcNohL6cR"
   },
   "outputs": [],
   "source": [
    "def tot_edges(g):\n",
    "    '''Returns the total number of edges for undirected graphs\n",
    "    '''\n",
    "    return sum([sum(el) for el in g])/2\n",
    "\n",
    "def edit_distance(g_1,g_2):\n",
    "    '''\n",
    "    '''\n",
    "    return tot_edges(abs(g_1-g_2))"
   ]
  },
  {
   "cell_type": "code",
   "execution_count": 7,
   "metadata": {
    "id": "p45bmYZoMEbu"
   },
   "outputs": [],
   "source": [
    "def create_graph(g,t):\n",
    "    '''\n",
    "    '''\n",
    "    dim = len(g)\n",
    "    distribution = []\n",
    "    for i in range(0,dim):\n",
    "        for j in range(i+1,dim):\n",
    "            el = abs(g[i][j])\n",
    "            distribution.append(el)\n",
    "    distribution.sort()\n",
    "    p = np.percentile(distribution,t)\n",
    "    g_new = np.zeros((dim,dim))\n",
    "    for i in range(0,dim):\n",
    "        for j in range(i+1,dim):\n",
    "            if abs(g[i][j])>=p:\n",
    "                g_new[i][j]=1\n",
    "                g_new[j][i]=1\n",
    "    return g_new"
   ]
  },
  {
   "cell_type": "code",
   "execution_count": 8,
   "metadata": {},
   "outputs": [],
   "source": [
    "def preprocessing_g(g,p_low,p_high):\n",
    "    '''\n",
    "    '''\n",
    "    dim = len(g)\n",
    "    distribution = []\n",
    "    for i in range(0,dim):\n",
    "        for j in range(i+1,dim):\n",
    "            el = g[i][j]\n",
    "            distribution.append(el)\n",
    "    distribution.sort()\n",
    "    p_min = np.percentile(distribution,p_low)\n",
    "    p_max = np.percentile(distribution,p_high)\n",
    "    print(p_min,p_max)\n",
    "    g_new = np.zeros((dim,dim))\n",
    "    for i in range(0,dim):\n",
    "        for j in range(i+1,dim):\n",
    "            if g[i][j]>p_max or g[i][j]<p_min:\n",
    "                g_new[i][j]=1\n",
    "                g_new[j][i]=1\n",
    "    return g_new"
   ]
  },
  {
   "cell_type": "code",
   "execution_count": 9,
   "metadata": {},
   "outputs": [],
   "source": [
    "def create_graph2(g,t):\n",
    "    '''\n",
    "    '''\n",
    "    dim = len(g)\n",
    "    distribution = []\n",
    "    for i in range(0,dim):\n",
    "        for j in range(i+1,dim):\n",
    "            el = g[i][j]\n",
    "            distribution.append(el)\n",
    "    distribution.sort()\n",
    "    p = np.percentile(distribution,t)\n",
    "    g_new = np.zeros((dim,dim))\n",
    "    for i in range(0,dim):\n",
    "        for j in range(i+1,dim):\n",
    "            if g[i][j]>=p:\n",
    "                g_new[i][j]=1\n",
    "                g_new[j][i]=1\n",
    "    return g_new"
   ]
  },
  {
   "cell_type": "code",
   "execution_count": 10,
   "metadata": {
    "id": "6zYgGEH6MEsQ"
   },
   "outputs": [],
   "source": [
    "t = 90\n",
    "t1 = 5\n",
    "t2 = 95\n",
    "graphs = {}\n",
    "tot_edges_list = []\n",
    "for k,v in data.items():\n",
    "    #g = create_graph(v[1],t)\n",
    "    #g = preprocessing_g(v[1],t1,t2)\n",
    "    g = create_graph2(v[1],t)\n",
    "    graphs[k] = (v[0],g)\n",
    "    tot_edges_list.append(tot_edges(g))"
   ]
  },
  {
   "cell_type": "markdown",
   "metadata": {
    "id": "kcjjZXcsMYGX"
   },
   "source": [
    "## 0. Brain Networks: datset distribution"
   ]
  },
  {
   "cell_type": "code",
   "execution_count": 11,
   "metadata": {
    "id": "5uK9hmsVMT29"
   },
   "outputs": [],
   "source": [
    "hist_l0 = [tot_edges(v[1]) for k,v in graphs.items() if v[0]==0]\n",
    "hist_l1 = [tot_edges(v[1]) for k,v in graphs.items() if v[0]==1]\n",
    "hist_l = [hist_l0,hist_l1]"
   ]
  },
  {
   "cell_type": "code",
   "execution_count": 12,
   "metadata": {
    "colab": {
     "base_uri": "https://localhost:8080/"
    },
    "id": "zD-T6iupMEoq",
    "outputId": "20ebb6a1-6333-4ae6-e98c-1a88613196b4"
   },
   "outputs": [
    {
     "name": "stdout",
     "output_type": "stream",
     "text": [
      "1796.0, 1796.0\n"
     ]
    }
   ],
   "source": [
    "avg_0 = sum(hist_l0)/len(hist_l0)\n",
    "avg_1 = sum(hist_l1)/len(hist_l1)\n",
    "print('{}, {}'.format(round(avg_0, 0),round(avg_1, 0)))"
   ]
  },
  {
   "cell_type": "markdown",
   "metadata": {
    "id": "3R7q-e14Mv0Y"
   },
   "source": [
    "## 0. Brain Networks: save graphs\n",
    "If you want to save graphs in single files, or in a .pickle file compute the newt two blocks"
   ]
  },
  {
   "cell_type": "code",
   "execution_count": 16,
   "metadata": {
    "id": "AmmG9_bMJACo"
   },
   "outputs": [],
   "source": [
    "# Write graphs to .txt files\n",
    "td_or_adhd = {0:'td',1:'adhd'}\n",
    "outputpath = '../data/ADHD/graphs'\n",
    "for k,v in graphs.items():\n",
    "    name = k\n",
    "    g = v[1]\n",
    "    label = v[0]\n",
    "    mat = np.matrix(g)\n",
    "    file_path = outputpath+'/'+ td_or_adhd[label]+'/'+'{}.txt'.format(name)\n",
    "    np.savetxt(file_path,mat,fmt='%i')"
   ]
  },
  {
   "cell_type": "code",
   "execution_count": 17,
   "metadata": {},
   "outputs": [
    {
     "data": {
      "text/plain": [
       "520"
      ]
     },
     "execution_count": 17,
     "metadata": {},
     "output_type": "execute_result"
    }
   ],
   "source": [
    "len(list(graphs.keys()))"
   ]
  },
  {
   "cell_type": "code",
   "execution_count": 90,
   "metadata": {},
   "outputs": [],
   "source": [
    "import pickle\n",
    "outputpath = '/Users/Carlo/graphcounterfactuals/code/ADHD/'\n",
    "with open(outputpath+'graphs3.pickle', 'wb') as handle:\n",
    "    pickle.dump(graphs, handle, protocol=pickle.HIGHEST_PROTOCOL)\n",
    "\n",
    "#with open(outputpath+'graphs3.pickle', 'rb') as handle:\n",
    "#    graphs_c = pickle.load(handle)"
   ]
  },
  {
   "cell_type": "markdown",
   "metadata": {
    "id": "gYUAMKHMNDo0"
   },
   "source": [
    "## 1. Black-box function: embedding\n",
    "The contrast subgraphs are computed as described in https://github.com/tlancian/contrast-subgraph"
   ]
  },
  {
   "cell_type": "code",
   "execution_count": 19,
   "metadata": {},
   "outputs": [],
   "source": [
    "\n",
    "# alpha=0.01\n",
    "adhd_td = [1, 2, 171, 179, 7, 139, 14, 15, 16, 19, 20, 22, 151, 154, 156, 160, 33, 35, 165, 168, 169, 42, 135, 173, 46, 47, 177, 51, 54, 184, 185, 186, 59, 32, 68, 182, 71, 74, 75, 79, 83, 89, 96, 97, 99, 106, 113, 114, 115]\n",
    "td_adhd = [1, 130, 132, 6, 7, 11, 12, 13, 18, 21, 152, 153, 30, 161, 162, 35, 134, 38, 167, 41, 170, 43, 174, 175, 178, 180, 158, 187, 62, 63, 65, 69, 70, 71, 76, 77, 80, 82, 84, 85, 86, 92, 94, 100, 101, 102, 105, 108, 117, 122, 124, 126, 127]"
   ]
  },
  {
   "cell_type": "code",
   "execution_count": 20,
   "metadata": {
    "colab": {
     "base_uri": "https://localhost:8080/"
    },
    "id": "-lduf1CgTWH9",
    "outputId": "cbcd6de4-71cb-4e4e-afb1-20922264cb76"
   },
   "outputs": [
    {
     "name": "stdout",
     "output_type": "stream",
     "text": [
      "common nodes  4\n",
      "[1, 7, 35, 71]\n"
     ]
    }
   ],
   "source": [
    "print('common nodes ',sum([1 for i in td_adhd if i in adhd_td]))\n",
    "common_nodes = [i for i in td_adhd if i in adhd_td]\n",
    "print(common_nodes)"
   ]
  },
  {
   "cell_type": "code",
   "execution_count": 21,
   "metadata": {
    "id": "v7XSJ2mSPly8"
   },
   "outputs": [],
   "source": [
    "# create the induced subgraph\n",
    "def sub_graph(g,v_sub,verbose=False):\n",
    "    '''To generate the sub graph\n",
    "    '''\n",
    "    g_sub = np.copy(g)\n",
    "    l_1 = [el for el in v_sub]\n",
    "    g_sub = g_sub[np.ix_(l_1,l_1)]\n",
    "    return g_sub\n",
    "\n",
    "def coeff_ab(g,td_asd,asd_td):\n",
    "    '''\n",
    "    '''\n",
    "    # Induce the sub-graphs\n",
    "    g_td_asd = sub_graph(g,td_asd)\n",
    "    g_asd_td = sub_graph(g,asd_td)\n",
    "\n",
    "    # Coefficients\n",
    "    a = sum([sum(i) for i in g_td_asd])/2\n",
    "    b = sum([sum(i) for i in g_asd_td])/2\n",
    "\n",
    "    return a,b"
   ]
  },
  {
   "cell_type": "code",
   "execution_count": 22,
   "metadata": {
    "id": "Iy1NcdrAPtAb"
   },
   "outputs": [],
   "source": [
    "ab_list = []\n",
    "for k,v in graphs.items():\n",
    "    name = k\n",
    "    g = v[1]\n",
    "    label = v[0]\n",
    "    a,b = coeff_ab(g,td_adhd,adhd_td)\n",
    "    ab_list.append((a,b,label))"
   ]
  },
  {
   "cell_type": "code",
   "execution_count": 23,
   "metadata": {
    "colab": {
     "base_uri": "https://localhost:8080/",
     "height": 554
    },
    "id": "up4JKKySPz3d",
    "outputId": "54e4d360-7e66-487d-a176-4dddcd1b5637"
   },
   "outputs": [
    {
     "data": {
      "text/plain": [
       "<matplotlib.legend.Legend at 0x7f96178a7890>"
      ]
     },
     "execution_count": 23,
     "metadata": {},
     "output_type": "execute_result"
    },
    {
     "data": {
      "image/png": "[encoded data removed]",
      "text/plain": [
       "<Figure size 1080x648 with 1 Axes>"
      ]
     },
     "metadata": {
      "needs_background": "light"
     },
     "output_type": "display_data"
    }
   ],
   "source": [
    "# Visualize the 2d-space\n",
    "X_0 = np.array([[a,b] for a,b,y in ab_list if y==0])\n",
    "X_1 = np.array([[a,b] for a,b,y in ab_list if y==1])\n",
    "plt.figure(figsize=(15,9))\n",
    "plt.scatter(X_0[:, 0], X_0[:, 1], label= 'TD')\n",
    "plt.scatter(X_1[:, 0], X_1[:, 1], label= 'ADHD')\n",
    "plt.legend()"
   ]
  },
  {
   "cell_type": "markdown",
   "metadata": {
    "id": "IZDLH2VxWSrf"
   },
   "source": [
    "## 1. Black-box function: create the classifier"
   ]
  },
  {
   "cell_type": "code",
   "execution_count": 24,
   "metadata": {
    "id": "u4YnPNg-XDPb"
   },
   "outputs": [],
   "source": [
    "def classifiers(x_train,y_train,x_test,y_test):\n",
    "    '''\n",
    "    '''\n",
    "    results_i = []\n",
    "    models = []\n",
    "    \n",
    "    # KNN\n",
    "    training_accuracy = [] \n",
    "    test_accuracy = []\n",
    "    kn_models = []\n",
    "    neighbors_settings = range(1, 30)\n",
    "    for n_neighbors in neighbors_settings:\n",
    "        # build the model\n",
    "        clf = KNeighborsClassifier(n_neighbors=n_neighbors) \n",
    "        clf.fit(x_train, y_train)\n",
    "        # record training set accuracy \n",
    "        training_accuracy.append(clf.score(x_train, y_train)) \n",
    "        # record generalization accuracy \n",
    "        scc = clf.score(x_test, y_test)\n",
    "        test_accuracy.append(scc)\n",
    "        kn_models.append(clf)\n",
    "    kn = test_accuracy.index(max(test_accuracy))\n",
    "    results_i.append(test_accuracy[kn])\n",
    "    models.append(kn_models[kn])\n",
    "    \n",
    "    # SCM\n",
    "    test_accuracy_svm = []\n",
    "    clf = svm.SVC(kernel='linear', C = 1.0)\n",
    "    clf.fit(x_train, y_train)\n",
    "    results_i.append(clf.score(x_test, y_test))\n",
    "    models.append(clf)\n",
    "    \n",
    "    return results_i,models"
   ]
  },
  {
   "cell_type": "code",
   "execution_count": 25,
   "metadata": {
    "colab": {
     "base_uri": "https://localhost:8080/"
    },
    "id": "h21uSkRIWUXh",
    "outputId": "d8c472f1-d601-4974-aee4-c58c6dd94817"
   },
   "outputs": [
    {
     "name": "stdout",
     "output_type": "stream",
     "text": [
      "416 104 416 104\n",
      "416 104 416 104\n",
      "416 104 416 104\n",
      "416 104 416 104\n",
      "416 104 416 104\n"
     ]
    }
   ],
   "source": [
    "import random\n",
    "from sklearn.model_selection import KFold\n",
    "from sklearn.neighbors import KNeighborsClassifier \n",
    "from sklearn import svm\n",
    "yx0 = [(y,[a,b]) for a,b,y in ab_list if y==0]\n",
    "yx1 = [(y,[a,b]) for a,b,y in ab_list if y==1]\n",
    "random.shuffle(yx0)\n",
    "random.shuffle(yx1)\n",
    "lenmax = max(len(yx0),len(yx1))\n",
    "yx0 = yx0[:lenmax]\n",
    "yx1 = yx1[:lenmax]\n",
    "yx = yx0 + yx1\n",
    "random.shuffle(yx)\n",
    "X = np.array([el[1] for el in yx])\n",
    "Y = np.array([el[0] for el in yx])\n",
    "##\n",
    "kf = KFold(n_splits=5,shuffle=True)\n",
    "kf.get_n_splits(X)\n",
    "i = 0\n",
    "results = {}\n",
    "models_classifier = {}\n",
    "for train_index, test_index in kf.split(X):\n",
    "    train_index = list(train_index)\n",
    "    test_index = list(test_index)\n",
    "    #print(\"TRAIN:\", len(train_index), \"TEST:\", len(test_index))\n",
    "    X_train, X_test = X[train_index], X[test_index]\n",
    "    y_train, y_test = Y[train_index], Y[test_index]\n",
    "    print(len(X_train),len(X_test),len(y_train),len(y_test))\n",
    "    #x_train,y_train,x_test,y_test =train_test_sets(,dim_1,dim_2)\n",
    "    # Classifiers\n",
    "    results[i],models_classifier[i] = classifiers(X_train,y_train,X_test,y_test)\n",
    "    i+=1"
   ]
  },
  {
   "cell_type": "code",
   "execution_count": 26,
   "metadata": {
    "colab": {
     "base_uri": "https://localhost:8080/"
    },
    "id": "tiygySLzWWLK",
    "outputId": "a2b8de13-848c-40f9-a98c-5141d214fdfe"
   },
   "outputs": [
    {
     "data": {
      "text/plain": [
       "{0: [0.6730769230769231, 0.6826923076923077],\n",
       " 1: [0.7403846153846154, 0.7115384615384616],\n",
       " 2: [0.7019230769230769, 0.6634615384615384],\n",
       " 3: [0.7692307692307693, 0.7692307692307693],\n",
       " 4: [0.7307692307692307, 0.6634615384615384]}"
      ]
     },
     "execution_count": 26,
     "metadata": {},
     "output_type": "execute_result"
    }
   ],
   "source": [
    "results"
   ]
  },
  {
   "cell_type": "code",
   "execution_count": 30,
   "metadata": {},
   "outputs": [],
   "source": [
    "clf = models_classifier[3][1]"
   ]
  },
  {
   "cell_type": "markdown",
   "metadata": {},
   "source": [
    "## 1. Black-box function: visualize the results"
   ]
  },
  {
   "cell_type": "code",
   "execution_count": 32,
   "metadata": {
    "colab": {
     "base_uri": "https://localhost:8080/"
    },
    "id": "sAFa6kv2eT80",
    "outputId": "2d9b3701-8c40-48c7-c3e0-a0fca1cce465"
   },
   "outputs": [
    {
     "name": "stdout",
     "output_type": "stream",
     "text": [
      "w_1 = -0.011585911313886754\n",
      "w_2 = 0.01859629649334238\n",
      "bk = -1.1019324122260894\n"
     ]
    }
   ],
   "source": [
    "# Line Coefficients\n",
    "w_1 = clf.coef_[0][0]\n",
    "w_2 = clf.coef_[0][1]\n",
    "bk = clf.intercept_[0]\n",
    "print('w_1 = {}'.format(clf.coef_[0][0])) # (w_1,w_2) : w_1*x_1 + w_2*x_2 + b = 0\n",
    "print('w_2 = {}'.format(clf.coef_[0][1])) # (w_1,w_2) : w_1*x_1 + w_2*x_2 + b = 0\n",
    "print('bk = {}'.format(clf.intercept_[0])) # (w_1,w_2) : w_1*x_1 + w_2*x_2 + b = 0"
   ]
  },
  {
   "cell_type": "code",
   "execution_count": 33,
   "metadata": {
    "id": "MJ12-9Czekx5"
   },
   "outputs": [],
   "source": [
    "# create the induced subgraph\n",
    "def sub_graph(g,v_sub):\n",
    "    '''To create the sub graph og 'g' from the list of nodes in 'v_sub'.\n",
    "    '''\n",
    "    g_sub = np.copy(g)\n",
    "    #l_1 = [el for el in v_sub]\n",
    "    l_1 = [el for el in v_sub]\n",
    "    g_sub = g_sub[np.ix_(l_1,l_1)]\n",
    "    return g_sub\n",
    "\n",
    "def oracle(g):\n",
    "    ''' The classification funcion for the graph 'g'\n",
    "    '''\n",
    "    # Sub-graphs\n",
    "    #td_adhd = [130, 4, 133, 6, 136, 140, 13, 144, 17, 18, 19, 151, 132, 26, 27, 167, 30, 159, 161, 162, 155, 36, 37, 38, 39, 170, 43, 172, 175, 48, 177, 178, 180, 158, 183, 56, 57, 60, 61, 62, 67, 69, 70, 73, 76, 78, 141, 85, 86, 176, 91, 92, 94, 100, 105, 107, 108, 112, 114, 116, 120, 121, 124, 126, 127]\n",
    "    #adhd_td = [128, 1, 2, 150, 134, 7, 11, 15, 145, 146, 147, 22, 151, 156, 32, 33, 35, 164, 163, 166, 40, 169, 42, 171, 173, 46, 47, 177, 50, 179, 53, 54, 184, 185, 186, 168, 188, 189, 181, 64, 160, 66, 68, 182, 71, 72, 74, 75, 143, 81, 82, 83, 89, 90, 91, 165, 97, 187, 104, 106, 113, 114, 115, 118, 120]\n",
    "\n",
    "    # Induced sub-graphs\n",
    "    g_td_adhd = sub_graph(g,td_adhd)\n",
    "    g_adhd_td = sub_graph(g,adhd_td)\n",
    "\n",
    "    # Coefficients\n",
    "    a = sum([sum(i) for i in g_td_adhd])/2\n",
    "    b = sum([sum(i) for i in g_adhd_td])/2\n",
    "\n",
    "    # Apply the rule\n",
    "    x = bk + w_1*a + w_2*b\n",
    "    \n",
    "\n",
    "    # Classify\n",
    "    if x>0:\n",
    "        return 1#,a,b #'ASD'\n",
    "    else:\n",
    "        return 0#,a,b#'TD'\n",
    "    \n",
    "def oracle_ab(g):\n",
    "    ''' The classification funcion for the graph 'g' with some information on the classification (a, b parameters)\n",
    "    '''\n",
    "    #td_adhd = [130, 4, 133, 6, 136, 140, 13, 144, 17, 18, 19, 151, 132, 26, 27, 167, 30, 159, 161, 162, 155, 36, 37, 38, 39, 170, 43, 172, 175, 48, 177, 178, 180, 158, 183, 56, 57, 60, 61, 62, 67, 69, 70, 73, 76, 78, 141, 85, 86, 176, 91, 92, 94, 100, 105, 107, 108, 112, 114, 116, 120, 121, 124, 126, 127]\n",
    "    #adhd_td = [128, 1, 2, 150, 134, 7, 11, 15, 145, 146, 147, 22, 151, 156, 32, 33, 35, 164, 163, 166, 40, 169, 42, 171, 173, 46, 47, 177, 50, 179, 53, 54, 184, 185, 186, 168, 188, 189, 181, 64, 160, 66, 68, 182, 71, 72, 74, 75, 143, 81, 82, 83, 89, 90, 91, 165, 97, 187, 104, 106, 113, 114, 115, 118, 120]\n",
    "\n",
    "    # Induced sub-graphs\n",
    "    g_td_adhd = sub_graph(g,td_adhd)\n",
    "    g_adhd_td = sub_graph(g,adhd_td)\n",
    "\n",
    "    # Coefficients\n",
    "    a = sum([sum(i) for i in g_td_adhd])/2\n",
    "    b = sum([sum(i) for i in g_adhd_td])/2\n",
    "\n",
    "    # Apply the rule\n",
    "    x = bk + w_1*a + w_2*b\n",
    "\n",
    "    # Classify\n",
    "    if x>0:\n",
    "        return 1,a,b #'ASD'\n",
    "    else:\n",
    "        return 0,a,b#'TD'"
   ]
  },
  {
   "cell_type": "code",
   "execution_count": 34,
   "metadata": {
    "id": "dvLx8FbnfiBu"
   },
   "outputs": [],
   "source": [
    "#name_o = 'KKI_0050777'\n",
    "info = []\n",
    "results = {'pred':[],'true':[]}\n",
    "for name,v in graphs.items():\n",
    "    g_o = v[1] # Original graph\n",
    "    y = v[0]\n",
    "    y_hat,a,b = oracle_ab(g_o)\n",
    "    #print('The graph {} with lable {} is classified as {}'.format(name,y,y_hat))\n",
    "    results['pred'].append(y_hat)\n",
    "    results['true'].append(y)\n",
    "    info.append((y_hat,y,a,b))"
   ]
  },
  {
   "cell_type": "code",
   "execution_count": 35,
   "metadata": {},
   "outputs": [
    {
     "data": {
      "text/plain": [
       "(190, 330)"
      ]
     },
     "execution_count": 35,
     "metadata": {},
     "output_type": "execute_result"
    }
   ],
   "source": [
    "sum([v[0] for k,v in graphs.items()]),sum([1 for k,v in graphs.items() if v[0]==0])"
   ]
  },
  {
   "cell_type": "code",
   "execution_count": 36,
   "metadata": {
    "colab": {
     "base_uri": "https://localhost:8080/"
    },
    "id": "zb2sdFIrf7Az",
    "outputId": "c00a85dc-bec2-456d-9611-d31a459b7817"
   },
   "outputs": [
    {
     "data": {
      "text/plain": [
       "0.7076923076923077"
      ]
     },
     "execution_count": 36,
     "metadata": {},
     "output_type": "execute_result"
    }
   ],
   "source": [
    "sum([1 for el in info if el[0]==el[1]])/len(info)"
   ]
  },
  {
   "cell_type": "code",
   "execution_count": 37,
   "metadata": {
    "id": "JijVdm6Chl2A"
   },
   "outputs": [],
   "source": [
    "l_0_a_tot = [el[2] for el in info if el[1]==0]\n",
    "l_0_b_tot = [el[3] for el in info if el[1]==0]\n",
    "l_1_a_tot = [el[2] for el in info if el[1]==1]\n",
    "l_1_b_tot = [el[3] for el in info if el[1]==1]\n",
    "l_a_tot = [el[2] for el in info]\n",
    "l_b_tot = [(bk+(w_1*el[2]))/(-w_2) for el in info]"
   ]
  },
  {
   "cell_type": "code",
   "execution_count": 38,
   "metadata": {
    "colab": {
     "base_uri": "https://localhost:8080/",
     "height": 585
    },
    "id": "XxZN2PXFhohQ",
    "outputId": "ec02bb77-8a32-423c-9315-df76bf298d30"
   },
   "outputs": [
    {
     "data": {
      "image/png": "[encoded data removed]",
      "text/plain": [
       "<Figure size 1080x648 with 1 Axes>"
      ]
     },
     "metadata": {
      "needs_background": "light"
     },
     "output_type": "display_data"
    }
   ],
   "source": [
    "# Plot \n",
    "\n",
    "plt.figure(figsize=(15,9))\n",
    "\n",
    "\n",
    "plt.scatter(X_0[:, 0], X_0[:, 1], label= 'TD')\n",
    "plt.scatter(X_1[:, 0], X_1[:, 1], label= 'ADHD')\n",
    "\n",
    "#plt.plot(l_0_a_tot,l_0_b_tot,'bo',label=\"TD\")\n",
    "#plt.plot(l_1_a_tot,l_1_b_tot,'ro',label=\"ASD\")\n",
    "plt.plot(l_a_tot,l_b_tot,'g-')\n",
    "#plt.ylim(100.0, 350.0)\n",
    "#plt.xlim(100.0, 250.0)\n",
    "plt.title('Scatter Plot')\n",
    "plt.ylabel('ASD_TD')\n",
    "plt.xlabel('TD_ASD')\n",
    "plt.legend()\n",
    "#plt.savefig('Scatter_plot.png')\n",
    "plt.show()"
   ]
  },
  {
   "cell_type": "code",
   "execution_count": 39,
   "metadata": {
    "colab": {
     "base_uri": "https://localhost:8080/"
    },
    "id": "sypGdF4mh04P",
    "outputId": "8c266f9c-95e4-4302-923d-ad83166a243d"
   },
   "outputs": [
    {
     "name": "stdout",
     "output_type": "stream",
     "text": [
      "Results:\n",
      "- 63 TP;\n",
      "- 305 TN;\n",
      "- 25 FP;\n",
      "- 127 FN.\n",
      "Accuracy = 0.7076923076923077\n"
     ]
    }
   ],
   "source": [
    "from sklearn.metrics import confusion_matrix,accuracy_score\n",
    "tn, fp, fn, tp = confusion_matrix(results['true'],results['pred']).ravel()\n",
    "print('Results:\\n- {} TP;\\n- {} TN;\\n- {} FP;\\n- {} FN.'.format(tp,tn,fp,fn))\n",
    "accuracy = accuracy_score(results['true'],results['pred'])\n",
    "print('Accuracy = {}'.format(accuracy))"
   ]
  },
  {
   "cell_type": "markdown",
   "metadata": {
    "id": "qUTsXCC_EXFr"
   },
   "source": [
    "## 2. Counterfactual Search: DS - Dataset Search"
   ]
  },
  {
   "cell_type": "code",
   "execution_count": 44,
   "metadata": {
    "id": "r_CYXQtdEFyg"
   },
   "outputs": [],
   "source": [
    "def dataset_distance(data,g_name):\n",
    "    ''' Sort of the datasets graph (classified in the counterfactual class y_bar) \n",
    "        by edit distance.\n",
    "    '''\n",
    "    g = data[g_name][1] # original graph\n",
    "    y_hat = oracle(g)\n",
    "    y_bar = 1-y_hat\n",
    "    l=1\n",
    "    cname = ''\n",
    "    dc=10000\n",
    "    for name,v in data.items():\n",
    "        y_i = v[0]\n",
    "        if name != g_name and y_i==(1-y_bar):\n",
    "            d = edit_distance(g,v[1])\n",
    "            if d<dc:\n",
    "                y_hat_i = oracle(v[1])\n",
    "                l += 1\n",
    "                if y_hat_i==y_bar:\n",
    "                    cname = name\n",
    "    return name,l "
   ]
  },
  {
   "cell_type": "code",
   "execution_count": 45,
   "metadata": {},
   "outputs": [
    {
     "name": "stdout",
     "output_type": "stream",
     "text": [
      "0 - 1 - 2 - 3 - 4 - 5 - 6 - 7 - 8 - 9 - 10 - 11 - 12 - 13 - 14 - 15 - 16 - 17 - 18 - 19 - 20 - 21 - 22 - 23 - 24 - 25 - 26 - 27 - 28 - 29 - 30 - 31 - 32 - 33 - 34 - 35 - 36 - 37 - 38 - 39 - 40 - 41 - 42 - 43 - 44 - 45 - 46 - 47 - 48 - 49 - 50 - 51 - 52 - 53 - 54 - 55 - 56 - 57 - 58 - 59 - 60 - 61 - 62 - 63 - 64 - 65 - 66 - 67 - 68 - 69 - 70 - 71 - 72 - 73 - 74 - 75 - 76 - 77 - 78 - 79 - 80 - 81 - 82 - 83 - 84 - 85 - 86 - 87 - 88 - 89 - 90 - 91 - 92 - 93 - 94 - 95 - 96 - 97 - 98 - 99 - 100 - 101 - 102 - 103 - 104 - 105 - 106 - "
     ]
    },
    {
     "ename": "KeyboardInterrupt",
     "evalue": "",
     "output_type": "error",
     "traceback": [
      "\u001b[0;31m---------------------------------------------------------------------------\u001b[0m",
      "\u001b[0;31mKeyboardInterrupt\u001b[0m                         Traceback (most recent call last)",
      "\u001b[0;32m<timed exec>\u001b[0m in \u001b[0;36m<module>\u001b[0;34m\u001b[0m\n",
      "\u001b[0;32m<ipython-input-44-35ac8dff212a>\u001b[0m in \u001b[0;36mdataset_distance\u001b[0;34m(data, g_name)\u001b[0m\n\u001b[1;32m     12\u001b[0m         \u001b[0my_i\u001b[0m \u001b[0;34m=\u001b[0m \u001b[0mv\u001b[0m\u001b[0;34m[\u001b[0m\u001b[0;36m0\u001b[0m\u001b[0;34m]\u001b[0m\u001b[0;34m\u001b[0m\u001b[0;34m\u001b[0m\u001b[0m\n\u001b[1;32m     13\u001b[0m         \u001b[0;32mif\u001b[0m \u001b[0mname\u001b[0m \u001b[0;34m!=\u001b[0m \u001b[0mg_name\u001b[0m \u001b[0;32mand\u001b[0m \u001b[0my_i\u001b[0m\u001b[0;34m==\u001b[0m\u001b[0;34m(\u001b[0m\u001b[0;36m1\u001b[0m\u001b[0;34m-\u001b[0m\u001b[0my_bar\u001b[0m\u001b[0;34m)\u001b[0m\u001b[0;34m:\u001b[0m\u001b[0;34m\u001b[0m\u001b[0;34m\u001b[0m\u001b[0m\n\u001b[0;32m---> 14\u001b[0;31m             \u001b[0md\u001b[0m \u001b[0;34m=\u001b[0m \u001b[0medit_distance\u001b[0m\u001b[0;34m(\u001b[0m\u001b[0mg\u001b[0m\u001b[0;34m,\u001b[0m\u001b[0mv\u001b[0m\u001b[0;34m[\u001b[0m\u001b[0;36m1\u001b[0m\u001b[0;34m]\u001b[0m\u001b[0;34m)\u001b[0m\u001b[0;34m\u001b[0m\u001b[0;34m\u001b[0m\u001b[0m\n\u001b[0m\u001b[1;32m     15\u001b[0m             \u001b[0;32mif\u001b[0m \u001b[0md\u001b[0m\u001b[0;34m<\u001b[0m\u001b[0mdc\u001b[0m\u001b[0;34m:\u001b[0m\u001b[0;34m\u001b[0m\u001b[0;34m\u001b[0m\u001b[0m\n\u001b[1;32m     16\u001b[0m                 \u001b[0my_hat_i\u001b[0m \u001b[0;34m=\u001b[0m \u001b[0moracle\u001b[0m\u001b[0;34m(\u001b[0m\u001b[0mv\u001b[0m\u001b[0;34m[\u001b[0m\u001b[0;36m1\u001b[0m\u001b[0;34m]\u001b[0m\u001b[0;34m)\u001b[0m\u001b[0;34m\u001b[0m\u001b[0;34m\u001b[0m\u001b[0m\n",
      "\u001b[0;32m<ipython-input-6-2dbd3cb4bca9>\u001b[0m in \u001b[0;36medit_distance\u001b[0;34m(g_1, g_2)\u001b[0m\n\u001b[1;32m      7\u001b[0m     '''\n\u001b[1;32m      8\u001b[0m     '''\n\u001b[0;32m----> 9\u001b[0;31m     \u001b[0;32mreturn\u001b[0m \u001b[0mtot_edges\u001b[0m\u001b[0;34m(\u001b[0m\u001b[0mabs\u001b[0m\u001b[0;34m(\u001b[0m\u001b[0mg_1\u001b[0m\u001b[0;34m-\u001b[0m\u001b[0mg_2\u001b[0m\u001b[0;34m)\u001b[0m\u001b[0;34m)\u001b[0m\u001b[0;34m\u001b[0m\u001b[0;34m\u001b[0m\u001b[0m\n\u001b[0m",
      "\u001b[0;32m<ipython-input-6-2dbd3cb4bca9>\u001b[0m in \u001b[0;36mtot_edges\u001b[0;34m(g)\u001b[0m\n\u001b[1;32m      2\u001b[0m     '''Returns the total number of edges for undirected graphs\n\u001b[1;32m      3\u001b[0m     '''\n\u001b[0;32m----> 4\u001b[0;31m     \u001b[0;32mreturn\u001b[0m \u001b[0msum\u001b[0m\u001b[0;34m(\u001b[0m\u001b[0;34m[\u001b[0m\u001b[0msum\u001b[0m\u001b[0;34m(\u001b[0m\u001b[0mel\u001b[0m\u001b[0;34m)\u001b[0m \u001b[0;32mfor\u001b[0m \u001b[0mel\u001b[0m \u001b[0;32min\u001b[0m \u001b[0mg\u001b[0m\u001b[0;34m]\u001b[0m\u001b[0;34m)\u001b[0m\u001b[0;34m/\u001b[0m\u001b[0;36m2\u001b[0m\u001b[0;34m\u001b[0m\u001b[0;34m\u001b[0m\u001b[0m\n\u001b[0m\u001b[1;32m      5\u001b[0m \u001b[0;34m\u001b[0m\u001b[0m\n\u001b[1;32m      6\u001b[0m \u001b[0;32mdef\u001b[0m \u001b[0medit_distance\u001b[0m\u001b[0;34m(\u001b[0m\u001b[0mg_1\u001b[0m\u001b[0;34m,\u001b[0m\u001b[0mg_2\u001b[0m\u001b[0;34m)\u001b[0m\u001b[0;34m:\u001b[0m\u001b[0;34m\u001b[0m\u001b[0;34m\u001b[0m\u001b[0m\n",
      "\u001b[0;32m<ipython-input-6-2dbd3cb4bca9>\u001b[0m in \u001b[0;36m<listcomp>\u001b[0;34m(.0)\u001b[0m\n\u001b[1;32m      2\u001b[0m     '''Returns the total number of edges for undirected graphs\n\u001b[1;32m      3\u001b[0m     '''\n\u001b[0;32m----> 4\u001b[0;31m     \u001b[0;32mreturn\u001b[0m \u001b[0msum\u001b[0m\u001b[0;34m(\u001b[0m\u001b[0;34m[\u001b[0m\u001b[0msum\u001b[0m\u001b[0;34m(\u001b[0m\u001b[0mel\u001b[0m\u001b[0;34m)\u001b[0m \u001b[0;32mfor\u001b[0m \u001b[0mel\u001b[0m \u001b[0;32min\u001b[0m \u001b[0mg\u001b[0m\u001b[0;34m]\u001b[0m\u001b[0;34m)\u001b[0m\u001b[0;34m/\u001b[0m\u001b[0;36m2\u001b[0m\u001b[0;34m\u001b[0m\u001b[0;34m\u001b[0m\u001b[0m\n\u001b[0m\u001b[1;32m      5\u001b[0m \u001b[0;34m\u001b[0m\u001b[0m\n\u001b[1;32m      6\u001b[0m \u001b[0;32mdef\u001b[0m \u001b[0medit_distance\u001b[0m\u001b[0;34m(\u001b[0m\u001b[0mg_1\u001b[0m\u001b[0;34m,\u001b[0m\u001b[0mg_2\u001b[0m\u001b[0;34m)\u001b[0m\u001b[0;34m:\u001b[0m\u001b[0;34m\u001b[0m\u001b[0;34m\u001b[0m\u001b[0m\n",
      "\u001b[0;31mKeyboardInterrupt\u001b[0m: "
     ]
    }
   ],
   "source": [
    "%%time\n",
    "results_dataset = {}\n",
    "dataset_d = {}\n",
    "k = 0\n",
    "for gname,v in graphs.items():\n",
    "    print(k, end=' - ')\n",
    "    k+=1\n",
    "    cname,l = dataset_distance(graphs,gname)\n",
    "    d = edit_distance(g,graphs[cname][1])\n",
    "    results_dataset[gname] = (d,l)\n",
    "    dataset_d[gname] = cname\n"
   ]
  },
  {
   "cell_type": "code",
   "execution_count": 84,
   "metadata": {},
   "outputs": [
    {
     "data": {
      "text/plain": [
       "2248.5615384615385"
      ]
     },
     "execution_count": 84,
     "metadata": {},
     "output_type": "execute_result"
    }
   ],
   "source": [
    "print('Average Edit Distance:')\n",
    "sum([edit_distance(graphs[k][1],graphs[v][1]) for k,v in dataset_d.items()])/len(list(dataset_d.keys()))"
   ]
  },
  {
   "cell_type": "markdown",
   "metadata": {},
   "source": [
    "## 4. Counterfactual Search: OBS - Oblivious Backward Search"
   ]
  },
  {
   "cell_type": "code",
   "execution_count": 53,
   "metadata": {},
   "outputs": [],
   "source": [
    "def get_change_list(g1,g2):\n",
    "    edges = []\n",
    "    g_diff = abs(g1-g2)\n",
    "    dim_g = len(g1)\n",
    "    for i in range(dim_g):\n",
    "        for j in range(i,dim_g):\n",
    "            if g_diff[i][j]==1:\n",
    "                edges.append((i,j))\n",
    "    return edges"
   ]
  },
  {
   "cell_type": "code",
   "execution_count": 54,
   "metadata": {},
   "outputs": [],
   "source": [
    "def bb(g,gc1,y_bar,k=5,l_max=2000):\n",
    "    '''\n",
    "    '''\n",
    "    info = []\n",
    "    gc = np.copy(gc1)\n",
    "    edges = get_change_list(g,gc)\n",
    "    d = edit_distance(g,gc)\n",
    "    random.shuffle(edges)\n",
    "    li=0\n",
    "    while(li<l_max and len(edges)>0 and d>1):\n",
    "        ki = min(k,len(edges))\n",
    "        gci = np.copy(gc)\n",
    "        edges_i = [edges.pop(0) for i in range(ki)]\n",
    "        for i,j in edges_i:\n",
    "            if gci[i][j]>0.5:\n",
    "                gci[i][j] = 0\n",
    "                gci[j][i] = 0\n",
    "            else:\n",
    "                gci[i][j] = 1\n",
    "                gci[j][i] = 1\n",
    "        r = oracle(gci)\n",
    "        li += 1\n",
    "        if r==y_bar:\n",
    "            gc = np.copy(gci)\n",
    "            d = edit_distance(g,gc)\n",
    "            #print('ok --> ',r,d,l,k)\n",
    "            info.append((r,d,li,ki))\n",
    "            k+=1\n",
    "        else:\n",
    "            d = edit_distance(g,gc)\n",
    "            info.append((r,d,li,ki))\n",
    "            if k>1:\n",
    "                k-=1\n",
    "                edges = edges + edges_i\n",
    "    return gc,edit_distance(g,gc),li,info"
   ]
  },
  {
   "cell_type": "code",
   "execution_count": 56,
   "metadata": {
    "scrolled": true
   },
   "outputs": [
    {
     "name": "stdout",
     "output_type": "stream",
     "text": [
      "0\n",
      "1/520 - 2/520 - 3/520 - 4/520 - 5/520 - 6/520 - 7/520 - 8/520 - 9/520 - 10/520 - 11/520 - 12/520 - 13/520 - 14/520 - 15/520 - 16/520 - 17/520 - 18/520 - 19/520 - 20/520 - 21/520 - 22/520 - 23/520 - 24/520 - 25/520 - 26/520 - 27/520 - 28/520 - 29/520 - 30/520 - 31/520 - 32/520 - 33/520 - 34/520 - 35/520 - 36/520 - 37/520 - 38/520 - 39/520 - 40/520 - 41/520 - 42/520 - 43/520 - 44/520 - 45/520 - 46/520 - 47/520 - 48/520 - 49/520 - 50/520 - 51/520 - 52/520 - 53/520 - 54/520 - 55/520 - 56/520 - 57/520 - 58/520 - 59/520 - 60/520 - 61/520 - 62/520 - 63/520 - 64/520 - 65/520 - 66/520 - 67/520 - 68/520 - 69/520 - 70/520 - 71/520 - 72/520 - 73/520 - 74/520 - 75/520 - 76/520 - 77/520 - 78/520 - 79/520 - 80/520 - 81/520 - 82/520 - 83/520 - 84/520 - 85/520 - 86/520 - 87/520 - 88/520 - 89/520 - 90/520 - 91/520 - 92/520 - 93/520 - 94/520 - 95/520 - 96/520 - 97/520 - 98/520 - 99/520 - 100/520 - 101/520 - 102/520 - 103/520 - 104/520 - 105/520 - 106/520 - 107/520 - 108/520 - 109/520 - 110/520 - 111/520 - 112/520 - 113/520 - 114/520 - 115/520 - 116/520 - 117/520 - 118/520 - 119/520 - 120/520 - 121/520 - 122/520 - 123/520 - 124/520 - 125/520 - 126/520 - 127/520 - 128/520 - 129/520 - 130/520 - 131/520 - 132/520 - 133/520 - 134/520 - 135/520 - 136/520 - 137/520 - 138/520 - 139/520 - 140/520 - 141/520 - 142/520 - 143/520 - 144/520 - 145/520 - 146/520 - 147/520 - 148/520 - 149/520 - 150/520 - 151/520 - 152/520 - 153/520 - 154/520 - 155/520 - 156/520 - 157/520 - 158/520 - 159/520 - 160/520 - 161/520 - 162/520 - 163/520 - 164/520 - 165/520 - 166/520 - 167/520 - 168/520 - 169/520 - 170/520 - 171/520 - 172/520 - 173/520 - 174/520 - 175/520 - 176/520 - 177/520 - 178/520 - 179/520 - 180/520 - 181/520 - 182/520 - 183/520 - 184/520 - 185/520 - 186/520 - 187/520 - 188/520 - 189/520 - 190/520 - 191/520 - 192/520 - 193/520 - 194/520 - 195/520 - 196/520 - 197/520 - 198/520 - 199/520 - 200/520 - 201/520 - 202/520 - 203/520 - 204/520 - 205/520 - 206/520 - 207/520 - 208/520 - 209/520 - 210/520 - 211/520 - 212/520 - 213/520 - 214/520 - 215/520 - 216/520 - 217/520 - 218/520 - 219/520 - 220/520 - 221/520 - 222/520 - 223/520 - 224/520 - 225/520 - 226/520 - 227/520 - 228/520 - 229/520 - 230/520 - 231/520 - 232/520 - 233/520 - 234/520 - 235/520 - 236/520 - 237/520 - 238/520 - 239/520 - 240/520 - 241/520 - 242/520 - 243/520 - 244/520 - 245/520 - 246/520 - 247/520 - 248/520 - 249/520 - 250/520 - 251/520 - 252/520 - 253/520 - 254/520 - 255/520 - 256/520 - 257/520 - 258/520 - 259/520 - 260/520 - 261/520 - 262/520 - 263/520 - 264/520 - 265/520 - 266/520 - 267/520 - 268/520 - 269/520 - 270/520 - 271/520 - 272/520 - 273/520 - 274/520 - 275/520 - 276/520 - 277/520 - 278/520 - 279/520 - 280/520 - 281/520 - 282/520 - 283/520 - 284/520 - 285/520 - 286/520 - 287/520 - 288/520 - 289/520 - 290/520 - 291/520 - 292/520 - 293/520 - 294/520 - 295/520 - 296/520 - 297/520 - 298/520 - 299/520 - 300/520 - 301/520 - 302/520 - 303/520 - 304/520 - 305/520 - 306/520 - 307/520 - 308/520 - 309/520 - 310/520 - 311/520 - 312/520 - 313/520 - 314/520 - 315/520 - 316/520 - 317/520 - 318/520 - 319/520 - 320/520 - 321/520 - 322/520 - 323/520 - 324/520 - 325/520 - 326/520 - 327/520 - 328/520 - 329/520 - 330/520 - 331/520 - 332/520 - 333/520 - 334/520 - 335/520 - 336/520 - 337/520 - 338/520 - 339/520 - 340/520 - 341/520 - 342/520 - 343/520 - 344/520 - 345/520 - 346/520 - 347/520 - 348/520 - 349/520 - 350/520 - 351/520 - 352/520 - 353/520 - 354/520 - 355/520 - 356/520 - 357/520 - 358/520 - 359/520 - 360/520 - 361/520 - 362/520 - 363/520 - 364/520 - 365/520 - 366/520 - 367/520 - 368/520 - 369/520 - 370/520 - 371/520 - 372/520 - 373/520 - 374/520 - 375/520 - 376/520 - 377/520 - 378/520 - 379/520 - 380/520 - 381/520 - 382/520 - 383/520 - 384/520 - 385/520 - 386/520 - 387/520 - 388/520 - 389/520 - 390/520 - 391/520 - 392/520 - 393/520 - 394/520 - 395/520 - 396/520 - 397/520 - 398/520 - 399/520 - 400/520 - 401/520 - 402/520 - 403/520 - 404/520 - 405/520 - 406/520 - 407/520 - 408/520 - 409/520 - 410/520 - 411/520 - 412/520 - 413/520 - 414/520 - 415/520 - 416/520 - 417/520 - 418/520 - 419/520 - 420/520 - 421/520 - 422/520 - 423/520 - 424/520 - 425/520 - 426/520 - 427/520 - 428/520 - 429/520 - 430/520 - 431/520 - 432/520 - 433/520 - 434/520 - 435/520 - 436/520 - 437/520 - 438/520 - 439/520 - 440/520 - 441/520 - 442/520 - 443/520 - 444/520 - 445/520 - 446/520 - 447/520 - 448/520 - 449/520 - 450/520 - 451/520 - 452/520 - 453/520 - 454/520 - 455/520 - 456/520 - 457/520 - 458/520 - 459/520 - 460/520 - 461/520 - 462/520 - 463/520 - 464/520 - 465/520 - 466/520 - 467/520 - 468/520 - 469/520 - 470/520 - 471/520 - 472/520 - 473/520 - 474/520 - 475/520 - 476/520 - 477/520 - 478/520 - 479/520 - 480/520 - 481/520 - 482/520 - 483/520 - 484/520 - 485/520 - 486/520 - 487/520 - 488/520 - 489/520 - 490/520 - 491/520 - 492/520 - 493/520 - 494/520 - 495/520 - 496/520 - 497/520 - 498/520 - 499/520 - 500/520 - 501/520 - 502/520 - 503/520 - 504/520 - 505/520 - 506/520 - 507/520 - 508/520 - 509/520 - 510/520 - 511/520 - 512/520 - 513/520 - 514/520 - 515/520 - 516/520 - 517/520 - 518/520 - 519/520 - 520/520 - 1\n",
      "1/520 - 2/520 - 3/520 - 4/520 - 5/520 - 6/520 - 7/520 - 8/520 - 9/520 - 10/520 - 11/520 - 12/520 - 13/520 - 14/520 - 15/520 - 16/520 - 17/520 - 18/520 - 19/520 - 20/520 - 21/520 - 22/520 - 23/520 - 24/520 - 25/520 - 26/520 - 27/520 - 28/520 - 29/520 - 30/520 - 31/520 - 32/520 - 33/520 - 34/520 - 35/520 - 36/520 - 37/520 - 38/520 - 39/520 - 40/520 - 41/520 - 42/520 - 43/520 - 44/520 - 45/520 - 46/520 - 47/520 - 48/520 - 49/520 - 50/520 - 51/520 - 52/520 - 53/520 - 54/520 - 55/520 - 56/520 - 57/520 - 58/520 - 59/520 - 60/520 - 61/520 - 62/520 - 63/520 - 64/520 - 65/520 - 66/520 - 67/520 - 68/520 - 69/520 - 70/520 - 71/520 - 72/520 - 73/520 - 74/520 - 75/520 - 76/520 - 77/520 - 78/520 - 79/520 - 80/520 - 81/520 - 82/520 - 83/520 - 84/520 - 85/520 - 86/520 - 87/520 - 88/520 - 89/520 - 90/520 - 91/520 - 92/520 - 93/520 - 94/520 - 95/520 - 96/520 - 97/520 - 98/520 - 99/520 - 100/520 - 101/520 - 102/520 - 103/520 - 104/520 - 105/520 - 106/520 - 107/520 - 108/520 - 109/520 - 110/520 - 111/520 - 112/520 - 113/520 - 114/520 - 115/520 - 116/520 - 117/520 - 118/520 - 119/520 - 120/520 - 121/520 - 122/520 - 123/520 - 124/520 - 125/520 - 126/520 - 127/520 - 128/520 - 129/520 - 130/520 - 131/520 - 132/520 - 133/520 - 134/520 - 135/520 - 136/520 - 137/520 - 138/520 - 139/520 - 140/520 - 141/520 - 142/520 - 143/520 - 144/520 - 145/520 - 146/520 - 147/520 - 148/520 - 149/520 - 150/520 - 151/520 - 152/520 - 153/520 - 154/520 - 155/520 - 156/520 - 157/520 - 158/520 - 159/520 - 160/520 - 161/520 - 162/520 - 163/520 - 164/520 - 165/520 - 166/520 - 167/520 - 168/520 - 169/520 - 170/520 - 171/520 - 172/520 - 173/520 - 174/520 - 175/520 - 176/520 - 177/520 - 178/520 - 179/520 - 180/520 - 181/520 - 182/520 - 183/520 - 184/520 - 185/520 - 186/520 - 187/520 - 188/520 - 189/520 - 190/520 - 191/520 - 192/520 - 193/520 - 194/520 - 195/520 - 196/520 - 197/520 - 198/520 - 199/520 - 200/520 - 201/520 - 202/520 - 203/520 - 204/520 - 205/520 - 206/520 - 207/520 - 208/520 - 209/520 - 210/520 - 211/520 - 212/520 - 213/520 - 214/520 - 215/520 - 216/520 - 217/520 - 218/520 - 219/520 - 220/520 - 221/520 - 222/520 - 223/520 - 224/520 - 225/520 - 226/520 - 227/520 - 228/520 - 229/520 - 230/520 - 231/520 - 232/520 - 233/520 - 234/520 - 235/520 - 236/520 - 237/520 - 238/520 - 239/520 - 240/520 - 241/520 - 242/520 - 243/520 - 244/520 - 245/520 - 246/520 - 247/520 - 248/520 - 249/520 - 250/520 - 251/520 - 252/520 - 253/520 - 254/520 - 255/520 - 256/520 - 257/520 - 258/520 - 259/520 - 260/520 - 261/520 - 262/520 - 263/520 - 264/520 - 265/520 - 266/520 - 267/520 - 268/520 - 269/520 - 270/520 - 271/520 - 272/520 - 273/520 - 274/520 - 275/520 - 276/520 - 277/520 - 278/520 - 279/520 - 280/520 - 281/520 - 282/520 - 283/520 - 284/520 - 285/520 - 286/520 - 287/520 - 288/520 - 289/520 - 290/520 - 291/520 - 292/520 - 293/520 - 294/520 - 295/520 - 296/520 - 297/520 - 298/520 - 299/520 - 300/520 - 301/520 - 302/520 - 303/520 - 304/520 - 305/520 - 306/520 - 307/520 - 308/520 - 309/520 - 310/520 - 311/520 - 312/520 - 313/520 - 314/520 - 315/520 - 316/520 - 317/520 - 318/520 - 319/520 - 320/520 - 321/520 - 322/520 - 323/520 - 324/520 - 325/520 - 326/520 - 327/520 - 328/520 - 329/520 - 330/520 - 331/520 - 332/520 - 333/520 - 334/520 - 335/520 - 336/520 - 337/520 - 338/520 - 339/520 - 340/520 - 341/520 - 342/520 - 343/520 - 344/520 - 345/520 - 346/520 - 347/520 - 348/520 - 349/520 - 350/520 - 351/520 - 352/520 - 353/520 - 354/520 - 355/520 - 356/520 - 357/520 - 358/520 - 359/520 - 360/520 - 361/520 - 362/520 - 363/520 - 364/520 - 365/520 - 366/520 - 367/520 - 368/520 - 369/520 - 370/520 - 371/520 - 372/520 - 373/520 - 374/520 - 375/520 - 376/520 - 377/520 - 378/520 - 379/520 - 380/520 - 381/520 - 382/520 - 383/520 - 384/520 - 385/520 - 386/520 - 387/520 - 388/520 - 389/520 - 390/520 - 391/520 - 392/520 - 393/520 - 394/520 - 395/520 - 396/520 - 397/520 - 398/520 - 399/520 - 400/520 - 401/520 - 402/520 - 403/520 - 404/520 - 405/520 - 406/520 - 407/520 - 408/520 - 409/520 - 410/520 - 411/520 - 412/520 - 413/520 - 414/520 - 415/520 - 416/520 - 417/520 - 418/520 - 419/520 - 420/520 - 421/520 - 422/520 - 423/520 - 424/520 - 425/520 - 426/520 - 427/520 - 428/520 - 429/520 - 430/520 - 431/520 - 432/520 - 433/520 - 434/520 - 435/520 - 436/520 - 437/520 - 438/520 - 439/520 - 440/520 - 441/520 - 442/520 - 443/520 - 444/520 - 445/520 - 446/520 - 447/520 - 448/520 - 449/520 - 450/520 - 451/520 - 452/520 - 453/520 - 454/520 - 455/520 - 456/520 - 457/520 - 458/520 - 459/520 - 460/520 - 461/520 - 462/520 - 463/520 - 464/520 - 465/520 - 466/520 - 467/520 - 468/520 - 469/520 - 470/520 - 471/520 - 472/520 - 473/520 - 474/520 - 475/520 - 476/520 - 477/520 - 478/520 - 479/520 - 480/520 - 481/520 - 482/520 - 483/520 - 484/520 - 485/520 - 486/520 - 487/520 - 488/520 - 489/520 - 490/520 - 491/520 - 492/520 - 493/520 - 494/520 - 495/520 - 496/520 - 497/520 - 498/520 - 499/520 - 500/520 - 501/520 - 502/520 - 503/520 - 504/520 - 505/520 - 506/520 - 507/520 - 508/520 - 509/520 - 510/520 - 511/520 - 512/520 - 513/520 - 514/520 - 515/520 - 516/520 - 517/520 - 518/520 - 519/520 - 520/520 - 2\n"
     ]
    },
    {
     "name": "stdout",
     "output_type": "stream",
     "text": [
      "1/520 - 2/520 - 3/520 - 4/520 - 5/520 - 6/520 - 7/520 - 8/520 - 9/520 - 10/520 - 11/520 - 12/520 - 13/520 - 14/520 - 15/520 - 16/520 - 17/520 - 18/520 - 19/520 - 20/520 - 21/520 - 22/520 - 23/520 - 24/520 - 25/520 - 26/520 - 27/520 - 28/520 - 29/520 - 30/520 - 31/520 - 32/520 - 33/520 - 34/520 - 35/520 - 36/520 - 37/520 - 38/520 - 39/520 - 40/520 - 41/520 - 42/520 - 43/520 - 44/520 - 45/520 - 46/520 - 47/520 - 48/520 - 49/520 - 50/520 - 51/520 - 52/520 - 53/520 - 54/520 - 55/520 - 56/520 - 57/520 - 58/520 - 59/520 - 60/520 - 61/520 - 62/520 - 63/520 - 64/520 - 65/520 - 66/520 - 67/520 - 68/520 - 69/520 - 70/520 - 71/520 - 72/520 - 73/520 - 74/520 - 75/520 - 76/520 - 77/520 - 78/520 - 79/520 - 80/520 - 81/520 - 82/520 - 83/520 - 84/520 - 85/520 - 86/520 - 87/520 - 88/520 - 89/520 - 90/520 - 91/520 - 92/520 - 93/520 - 94/520 - 95/520 - 96/520 - 97/520 - 98/520 - 99/520 - 100/520 - 101/520 - 102/520 - 103/520 - 104/520 - 105/520 - 106/520 - 107/520 - 108/520 - 109/520 - 110/520 - 111/520 - 112/520 - 113/520 - 114/520 - 115/520 - 116/520 - 117/520 - 118/520 - 119/520 - 120/520 - 121/520 - 122/520 - 123/520 - 124/520 - 125/520 - 126/520 - 127/520 - 128/520 - 129/520 - 130/520 - 131/520 - 132/520 - 133/520 - 134/520 - 135/520 - 136/520 - 137/520 - 138/520 - 139/520 - 140/520 - 141/520 - 142/520 - 143/520 - 144/520 - 145/520 - 146/520 - 147/520 - 148/520 - 149/520 - 150/520 - 151/520 - 152/520 - 153/520 - 154/520 - 155/520 - 156/520 - 157/520 - 158/520 - 159/520 - 160/520 - 161/520 - 162/520 - 163/520 - 164/520 - 165/520 - 166/520 - 167/520 - 168/520 - 169/520 - 170/520 - 171/520 - 172/520 - 173/520 - 174/520 - 175/520 - 176/520 - 177/520 - 178/520 - 179/520 - 180/520 - 181/520 - 182/520 - 183/520 - 184/520 - 185/520 - 186/520 - 187/520 - 188/520 - 189/520 - 190/520 - 191/520 - 192/520 - 193/520 - 194/520 - 195/520 - 196/520 - 197/520 - 198/520 - 199/520 - 200/520 - 201/520 - 202/520 - 203/520 - 204/520 - 205/520 - 206/520 - 207/520 - 208/520 - 209/520 - 210/520 - 211/520 - 212/520 - 213/520 - 214/520 - 215/520 - 216/520 - 217/520 - 218/520 - 219/520 - 220/520 - 221/520 - 222/520 - 223/520 - 224/520 - 225/520 - 226/520 - 227/520 - 228/520 - 229/520 - 230/520 - 231/520 - 232/520 - 233/520 - 234/520 - 235/520 - 236/520 - 237/520 - 238/520 - 239/520 - 240/520 - 241/520 - 242/520 - 243/520 - 244/520 - 245/520 - 246/520 - 247/520 - 248/520 - 249/520 - 250/520 - 251/520 - 252/520 - 253/520 - 254/520 - 255/520 - 256/520 - 257/520 - 258/520 - 259/520 - 260/520 - 261/520 - 262/520 - 263/520 - 264/520 - 265/520 - 266/520 - 267/520 - 268/520 - 269/520 - 270/520 - 271/520 - 272/520 - 273/520 - 274/520 - 275/520 - 276/520 - 277/520 - 278/520 - 279/520 - 280/520 - 281/520 - 282/520 - 283/520 - 284/520 - 285/520 - 286/520 - 287/520 - 288/520 - 289/520 - 290/520 - 291/520 - 292/520 - 293/520 - 294/520 - 295/520 - 296/520 - 297/520 - 298/520 - 299/520 - 300/520 - 301/520 - 302/520 - 303/520 - 304/520 - 305/520 - 306/520 - 307/520 - 308/520 - 309/520 - 310/520 - 311/520 - 312/520 - 313/520 - 314/520 - 315/520 - 316/520 - 317/520 - 318/520 - 319/520 - 320/520 - 321/520 - 322/520 - 323/520 - 324/520 - 325/520 - 326/520 - 327/520 - 328/520 - 329/520 - 330/520 - 331/520 - 332/520 - 333/520 - 334/520 - 335/520 - 336/520 - 337/520 - 338/520 - 339/520 - 340/520 - 341/520 - 342/520 - 343/520 - 344/520 - 345/520 - 346/520 - 347/520 - 348/520 - 349/520 - 350/520 - 351/520 - 352/520 - 353/520 - 354/520 - 355/520 - 356/520 - 357/520 - 358/520 - 359/520 - 360/520 - 361/520 - 362/520 - 363/520 - 364/520 - 365/520 - 366/520 - 367/520 - 368/520 - 369/520 - 370/520 - 371/520 - 372/520 - 373/520 - 374/520 - 375/520 - 376/520 - 377/520 - 378/520 - 379/520 - 380/520 - 381/520 - 382/520 - 383/520 - 384/520 - 385/520 - 386/520 - 387/520 - 388/520 - 389/520 - 390/520 - 391/520 - 392/520 - 393/520 - 394/520 - 395/520 - 396/520 - 397/520 - 398/520 - 399/520 - 400/520 - 401/520 - 402/520 - 403/520 - 404/520 - 405/520 - 406/520 - 407/520 - 408/520 - 409/520 - 410/520 - 411/520 - 412/520 - 413/520 - 414/520 - 415/520 - 416/520 - 417/520 - 418/520 - 419/520 - 420/520 - 421/520 - 422/520 - 423/520 - 424/520 - 425/520 - 426/520 - 427/520 - 428/520 - 429/520 - 430/520 - 431/520 - 432/520 - 433/520 - 434/520 - 435/520 - 436/520 - 437/520 - 438/520 - 439/520 - 440/520 - 441/520 - 442/520 - 443/520 - 444/520 - 445/520 - 446/520 - 447/520 - 448/520 - 449/520 - 450/520 - 451/520 - 452/520 - 453/520 - 454/520 - 455/520 - 456/520 - 457/520 - 458/520 - 459/520 - 460/520 - 461/520 - 462/520 - 463/520 - 464/520 - 465/520 - 466/520 - 467/520 - 468/520 - 469/520 - 470/520 - 471/520 - 472/520 - 473/520 - 474/520 - 475/520 - 476/520 - 477/520 - 478/520 - 479/520 - 480/520 - 481/520 - 482/520 - 483/520 - 484/520 - 485/520 - 486/520 - 487/520 - 488/520 - 489/520 - 490/520 - 491/520 - 492/520 - 493/520 - 494/520 - 495/520 - 496/520 - 497/520 - 498/520 - 499/520 - 500/520 - 501/520 - 502/520 - 503/520 - 504/520 - 505/520 - 506/520 - 507/520 - 508/520 - 509/520 - 510/520 - 511/520 - 512/520 - 513/520 - 514/520 - 515/520 - 516/520 - 517/520 - 518/520 - 519/520 - 520/520 - CPU times: user 1h 50min 25s, sys: 27 s, total: 1h 50min 53s\n",
      "Wall time: 1h 58min\n"
     ]
    }
   ],
   "source": [
    "%%time\n",
    "lambda_g = 2000\n",
    "k = 10\n",
    "info_k_dist = {}\n",
    "max_m = len(graphs.keys())\n",
    "r_bb = {}\n",
    "for q in range(3):\n",
    "    print(q)\n",
    "    m = 1\n",
    "    r_bb_i = {}\n",
    "    for oname,v in graphs.items():\n",
    "        print('{}/{}'.format(m,max_m), end=' - ')\n",
    "        m+=1\n",
    "        g = v[1]\n",
    "        y_hat = oracle(g)\n",
    "        gc_name = dataset_d[oname]\n",
    "        gc = graphs[gc_name][1]\n",
    "        d_initial = edit_distance(g,gc)\n",
    "        gc2,d,l,info = bb(g,gc,abs(1-y_hat))\n",
    "#        info = sum(info.values(), [])\n",
    "        d_final = edit_distance(g,gc2)\n",
    "        r_bb_i[oname] = [d_final,l,y_hat,d_initial,info,gc2]\n",
    "    r_bb[q] = r_bb_i"
   ]
  },
  {
   "cell_type": "code",
   "execution_count": 65,
   "metadata": {},
   "outputs": [],
   "source": [
    "# d_final,l,y_hat,d_initial,info,gc2\n",
    "qq = len(r_bb)\n",
    "ed = []\n",
    "la = []\n",
    "not_found = []\n",
    "for name in list(r_bb[0].keys()):\n",
    "    ed.append(np.array([r_bb[q][name][0] for q in range(qq)]))\n",
    "    la.append(np.array([r_bb[q][name][1] for q in range(qq)]))\n",
    "    not_found.append(np.array([name for q in range(qq) if r_bb[q][name][0]<1]))\n",
    "ed_avstd = [round(np.std(el),2) for el in ed]\n",
    "la_avstd = [round(np.std(el),2) for el in la]"
   ]
  },
  {
   "cell_type": "code",
   "execution_count": 71,
   "metadata": {},
   "outputs": [],
   "source": [
    "# d_final,l,y_hat,d_initial,info,gc2\n",
    "\n",
    "qq = len(r_bb)\n",
    "ed_avg = []\n",
    "ed_min = []\n",
    "la_avg = []\n",
    "for name in list(r_bb[0].keys()):\n",
    "    ed_avg.append(sum([r_bb[q][name][0] for q in range(qq)])/qq)\n",
    "    ed_min.append(min([r_bb[q][name][0] for q in range(qq)]))\n",
    "    la_avg.append(sum([r_bb[q][name][1] for q in range(qq)])/qq)"
   ]
  },
  {
   "cell_type": "code",
   "execution_count": 73,
   "metadata": {},
   "outputs": [
    {
     "name": "stdout",
     "output_type": "stream",
     "text": [
      "Edit Distance: Average\n",
      "& 8.0 & 20.0 & 43.0 & 69.0 & 98.20000000000005\n"
     ]
    }
   ],
   "source": [
    "print('Edit Distance: Average')\n",
    "print('& {} & {} & {} & {} & {}'.format(np.quantile(ed_min,0.10),np.quantile(ed_min,0.25),np.quantile(ed_min,0.50),\n",
    "                                        np.quantile(ed_min,0.75),np.quantile(ed_min,0.90)))"
   ]
  },
  {
   "cell_type": "code",
   "execution_count": 78,
   "metadata": {},
   "outputs": [
    {
     "name": "stdout",
     "output_type": "stream",
     "text": [
      "Edit Distance: Average\n",
      "& 9.0 & 20.6 & 43.8 & 70.0 & 100.2\n"
     ]
    }
   ],
   "source": [
    "print('Edit Distance: Average')\n",
    "print('& {} & {} & {} & {} & {}'.format(round(np.quantile(ed_avg,0.10),1),\n",
    "                                        round(np.quantile(ed_avg,0.25),1),\n",
    "                                        round(np.quantile(ed_avg,0.50),1),\n",
    "                                        round(np.quantile(ed_avg,0.75),1),\n",
    "                                        round(np.quantile(ed_avg,0.90),1)))"
   ]
  },
  {
   "cell_type": "code",
   "execution_count": 79,
   "metadata": {},
   "outputs": [
    {
     "name": "stdout",
     "output_type": "stream",
     "text": [
      "Lambda: Avg\n",
      "& 173.2 & 249.2 & 406.0 & 578.2 & 764.7\n"
     ]
    }
   ],
   "source": [
    "print('Lambda: Avg')\n",
    "print('& {} & {} & {} & {} & {}'.format(round(np.quantile(la_avg,0.10),1),\n",
    "                                        round(np.quantile(la_avg,0.25),1),\n",
    "                                        round(np.quantile(la_avg,0.50),1),\n",
    "                                        round(np.quantile(la_avg,0.75),1),\n",
    "                                        round(np.quantile(la_avg,0.90),1)))"
   ]
  },
  {
   "cell_type": "markdown",
   "metadata": {},
   "source": [
    "## 4. Counterfactual Search: OBS - Oblivious Backward Search (variant)"
   ]
  },
  {
   "cell_type": "code",
   "execution_count": 79,
   "metadata": {},
   "outputs": [],
   "source": [
    "def get_change_list(g1,g2):\n",
    "    edges = []\n",
    "    g_diff = abs(g1-g2)\n",
    "    dim_g = len(g1)\n",
    "    for i in range(dim_g):\n",
    "        for j in range(i,dim_g):\n",
    "            if g_diff[i][j]==1:\n",
    "                edges.append((i,j))\n",
    "    return edges"
   ]
  },
  {
   "cell_type": "code",
   "execution_count": 80,
   "metadata": {},
   "outputs": [],
   "source": [
    "def k_back_search(g,gc1,y_bar,k,l,lambda_f=2000):\n",
    "    '''\n",
    "    '''\n",
    "    info = []\n",
    "    dim = len(g)\n",
    "    gc = np.copy(gc1)\n",
    "    edges = get_change_list(g,gc)\n",
    "    d = edit_distance(g,gc)\n",
    "    random.shuffle(edges) #g_dist\n",
    "    #print(y_bar,len(edges),d)\n",
    "    while(l<lambda_f and len(edges)>0 and d>1):\n",
    "        if k>len(edges):\n",
    "            k=len(edges)-1\n",
    "        gci = np.copy(gc)\n",
    "        edges_i = [edges.pop(0) for i in range(k)]\n",
    "        for i,j in edges_i:\n",
    "            if gci[i][j]>0.5:\n",
    "                gci[i][j] = 0\n",
    "                gci[j][i] = 0\n",
    "            else:\n",
    "                gci[i][j] = 1\n",
    "                gci[j][i] = 1\n",
    "        r = oracle(gci)\n",
    "        l += 1\n",
    "        if r==y_bar:\n",
    "            gc = np.copy(gci)\n",
    "            d = edit_distance(g,gc)\n",
    "            #print('ok --> ',r,d,l,k)\n",
    "            info.append((r,d,l,k))\n",
    "            k+=1\n",
    "        else:\n",
    "            k-=1\n",
    "            if k<1:\n",
    "                k=1\n",
    "            if len(edges)<2:\n",
    "                return gc,l,d,k,info\n",
    "            info.append((r,d,l,k))\n",
    "            #print('no --> ',r,d,l,k)\n",
    "    return gc,l,edit_distance(g,gc),k,info"
   ]
  },
  {
   "cell_type": "code",
   "execution_count": 81,
   "metadata": {},
   "outputs": [],
   "source": [
    "def k_backward(g,gc,y_bar,k=5,l_max=2000):\n",
    "    ''''''\n",
    "    l=0\n",
    "    d_old=edit_distance(g,gc)\n",
    "    d=d_old-1\n",
    "    gci = np.copy(gc)\n",
    "    info = {}\n",
    "    q=0\n",
    "    while(d>0 and d<d_old and l<l_max):\n",
    "        #print('-->',q,oracle(gci),y_bar,k,l,d)\n",
    "        d_old=d\n",
    "        gci,l,d,k,info_i = k_back_search(g,gci,y_bar,k,l)\n",
    "        #l+=li\n",
    "        info[q] = info_i\n",
    "        q+=1\n",
    "    return gci,d,l,info"
   ]
  },
  {
   "cell_type": "code",
   "execution_count": 82,
   "metadata": {},
   "outputs": [
    {
     "name": "stdout",
     "output_type": "stream",
     "text": [
      "0\n",
      "1/520 - 2/520 - 3/520 - 4/520 - 5/520 - 6/520 - 7/520 - 8/520 - 9/520 - 10/520 - 11/520 - 12/520 - 13/520 - 14/520 - 15/520 - 16/520 - 17/520 - 18/520 - 19/520 - 20/520 - 21/520 - 22/520 - 23/520 - 24/520 - 25/520 - 26/520 - 27/520 - 28/520 - 29/520 - 30/520 - 31/520 - 32/520 - 33/520 - 34/520 - 35/520 - 36/520 - 37/520 - 38/520 - 39/520 - 40/520 - 41/520 - 42/520 - 43/520 - 44/520 - 45/520 - 46/520 - 47/520 - 48/520 - 49/520 - 50/520 - 51/520 - 52/520 - 53/520 - 54/520 - 55/520 - 56/520 - 57/520 - 58/520 - 59/520 - 60/520 - 61/520 - 62/520 - 63/520 - 64/520 - 65/520 - 66/520 - 67/520 - 68/520 - 69/520 - 70/520 - 71/520 - 72/520 - 73/520 - 74/520 - 75/520 - 76/520 - 77/520 - 78/520 - 79/520 - 80/520 - 81/520 - 82/520 - 83/520 - 84/520 - 85/520 - 86/520 - 87/520 - 88/520 - 89/520 - 90/520 - 91/520 - 92/520 - 93/520 - 94/520 - 95/520 - 96/520 - 97/520 - 98/520 - 99/520 - 100/520 - 101/520 - 102/520 - 103/520 - 104/520 - 105/520 - 106/520 - 107/520 - 108/520 - 109/520 - 110/520 - 111/520 - 112/520 - 113/520 - 114/520 - 115/520 - 116/520 - 117/520 - 118/520 - 119/520 - 120/520 - 121/520 - 122/520 - 123/520 - 124/520 - 125/520 - 126/520 - 127/520 - 128/520 - 129/520 - 130/520 - 131/520 - 132/520 - 133/520 - 134/520 - 135/520 - 136/520 - 137/520 - 138/520 - 139/520 - 140/520 - 141/520 - 142/520 - 143/520 - 144/520 - 145/520 - 146/520 - 147/520 - 148/520 - 149/520 - 150/520 - 151/520 - 152/520 - 153/520 - 154/520 - 155/520 - 156/520 - 157/520 - 158/520 - 159/520 - 160/520 - 161/520 - 162/520 - 163/520 - 164/520 - 165/520 - 166/520 - 167/520 - 168/520 - 169/520 - 170/520 - 171/520 - 172/520 - 173/520 - 174/520 - 175/520 - 176/520 - 177/520 - 178/520 - 179/520 - 180/520 - 181/520 - 182/520 - 183/520 - 184/520 - 185/520 - 186/520 - 187/520 - 188/520 - 189/520 - 190/520 - 191/520 - 192/520 - 193/520 - 194/520 - 195/520 - 196/520 - 197/520 - 198/520 - 199/520 - 200/520 - 201/520 - 202/520 - 203/520 - 204/520 - 205/520 - 206/520 - 207/520 - 208/520 - 209/520 - 210/520 - 211/520 - 212/520 - 213/520 - 214/520 - 215/520 - 216/520 - 217/520 - 218/520 - 219/520 - 220/520 - 221/520 - 222/520 - 223/520 - 224/520 - 225/520 - 226/520 - 227/520 - 228/520 - 229/520 - 230/520 - 231/520 - 232/520 - 233/520 - 234/520 - 235/520 - 236/520 - 237/520 - 238/520 - 239/520 - 240/520 - 241/520 - 242/520 - 243/520 - 244/520 - 245/520 - 246/520 - 247/520 - 248/520 - 249/520 - 250/520 - 251/520 - 252/520 - 253/520 - 254/520 - 255/520 - 256/520 - 257/520 - 258/520 - 259/520 - 260/520 - 261/520 - 262/520 - 263/520 - 264/520 - 265/520 - 266/520 - 267/520 - 268/520 - 269/520 - 270/520 - 271/520 - 272/520 - 273/520 - 274/520 - 275/520 - 276/520 - 277/520 - 278/520 - 279/520 - 280/520 - 281/520 - 282/520 - 283/520 - 284/520 - 285/520 - 286/520 - 287/520 - 288/520 - 289/520 - 290/520 - 291/520 - 292/520 - 293/520 - 294/520 - 295/520 - 296/520 - 297/520 - 298/520 - 299/520 - 300/520 - 301/520 - 302/520 - 303/520 - 304/520 - 305/520 - 306/520 - 307/520 - 308/520 - 309/520 - 310/520 - 311/520 - 312/520 - 313/520 - 314/520 - 315/520 - 316/520 - 317/520 - 318/520 - 319/520 - 320/520 - 321/520 - 322/520 - 323/520 - 324/520 - 325/520 - 326/520 - 327/520 - 328/520 - 329/520 - 330/520 - 331/520 - 332/520 - 333/520 - 334/520 - 335/520 - 336/520 - 337/520 - 338/520 - 339/520 - 340/520 - 341/520 - 342/520 - 343/520 - 344/520 - 345/520 - 346/520 - 347/520 - 348/520 - 349/520 - 350/520 - 351/520 - 352/520 - 353/520 - 354/520 - 355/520 - 356/520 - 357/520 - 358/520 - 359/520 - 360/520 - 361/520 - 362/520 - 363/520 - 364/520 - 365/520 - 366/520 - 367/520 - 368/520 - 369/520 - 370/520 - 371/520 - 372/520 - 373/520 - 374/520 - 375/520 - 376/520 - 377/520 - 378/520 - 379/520 - 380/520 - 381/520 - 382/520 - 383/520 - 384/520 - 385/520 - 386/520 - 387/520 - 388/520 - 389/520 - 390/520 - 391/520 - 392/520 - 393/520 - 394/520 - 395/520 - 396/520 - 397/520 - 398/520 - 399/520 - 400/520 - 401/520 - 402/520 - 403/520 - 404/520 - 405/520 - 406/520 - 407/520 - 408/520 - 409/520 - 410/520 - 411/520 - 412/520 - 413/520 - 414/520 - 415/520 - 416/520 - 417/520 - 418/520 - 419/520 - 420/520 - 421/520 - 422/520 - 423/520 - 424/520 - 425/520 - 426/520 - 427/520 - 428/520 - 429/520 - 430/520 - 431/520 - 432/520 - 433/520 - 434/520 - 435/520 - 436/520 - 437/520 - 438/520 - 439/520 - 440/520 - 441/520 - 442/520 - 443/520 - 444/520 - 445/520 - 446/520 - 447/520 - 448/520 - 449/520 - 450/520 - 451/520 - 452/520 - 453/520 - 454/520 - 455/520 - 456/520 - 457/520 - 458/520 - 459/520 - 460/520 - 461/520 - 462/520 - 463/520 - 464/520 - 465/520 - 466/520 - 467/520 - 468/520 - 469/520 - 470/520 - 471/520 - 472/520 - 473/520 - 474/520 - 475/520 - 476/520 - 477/520 - 478/520 - 479/520 - 480/520 - 481/520 - 482/520 - 483/520 - 484/520 - 485/520 - 486/520 - 487/520 - 488/520 - 489/520 - 490/520 - 491/520 - 492/520 - 493/520 - 494/520 - 495/520 - 496/520 - 497/520 - 498/520 - 499/520 - 500/520 - 501/520 - 502/520 - 503/520 - 504/520 - 505/520 - 506/520 - 507/520 - 508/520 - 509/520 - 510/520 - 511/520 - 512/520 - 513/520 - 514/520 - 515/520 - 516/520 - 517/520 - 518/520 - 519/520 - 520/520 - 1\n",
      "1/520 - 2/520 - 3/520 - 4/520 - 5/520 - 6/520 - 7/520 - 8/520 - 9/520 - 10/520 - 11/520 - 12/520 - 13/520 - 14/520 - 15/520 - 16/520 - 17/520 - 18/520 - 19/520 - 20/520 - 21/520 - 22/520 - 23/520 - 24/520 - 25/520 - 26/520 - 27/520 - 28/520 - 29/520 - 30/520 - 31/520 - 32/520 - 33/520 - 34/520 - 35/520 - 36/520 - 37/520 - 38/520 - 39/520 - 40/520 - 41/520 - 42/520 - 43/520 - 44/520 - 45/520 - 46/520 - 47/520 - 48/520 - 49/520 - 50/520 - 51/520 - 52/520 - 53/520 - 54/520 - 55/520 - 56/520 - 57/520 - 58/520 - 59/520 - 60/520 - 61/520 - 62/520 - 63/520 - 64/520 - 65/520 - 66/520 - 67/520 - 68/520 - 69/520 - 70/520 - 71/520 - 72/520 - 73/520 - 74/520 - 75/520 - 76/520 - 77/520 - 78/520 - 79/520 - 80/520 - 81/520 - 82/520 - 83/520 - 84/520 - 85/520 - 86/520 - 87/520 - 88/520 - 89/520 - 90/520 - 91/520 - 92/520 - 93/520 - 94/520 - 95/520 - 96/520 - 97/520 - 98/520 - 99/520 - 100/520 - 101/520 - 102/520 - 103/520 - 104/520 - 105/520 - 106/520 - 107/520 - 108/520 - 109/520 - 110/520 - 111/520 - 112/520 - 113/520 - 114/520 - 115/520 - 116/520 - 117/520 - 118/520 - 119/520 - 120/520 - 121/520 - 122/520 - 123/520 - 124/520 - 125/520 - 126/520 - 127/520 - 128/520 - 129/520 - 130/520 - 131/520 - 132/520 - 133/520 - 134/520 - 135/520 - 136/520 - 137/520 - 138/520 - 139/520 - 140/520 - 141/520 - 142/520 - 143/520 - 144/520 - 145/520 - 146/520 - 147/520 - 148/520 - 149/520 - 150/520 - 151/520 - 152/520 - 153/520 - 154/520 - 155/520 - 156/520 - 157/520 - 158/520 - 159/520 - 160/520 - 161/520 - 162/520 - 163/520 - 164/520 - 165/520 - 166/520 - 167/520 - 168/520 - 169/520 - 170/520 - 171/520 - 172/520 - 173/520 - 174/520 - 175/520 - 176/520 - 177/520 - 178/520 - 179/520 - 180/520 - 181/520 - 182/520 - 183/520 - 184/520 - 185/520 - 186/520 - 187/520 - 188/520 - 189/520 - 190/520 - 191/520 - 192/520 - 193/520 - 194/520 - 195/520 - 196/520 - 197/520 - 198/520 - 199/520 - 200/520 - 201/520 - 202/520 - 203/520 - 204/520 - 205/520 - 206/520 - 207/520 - 208/520 - 209/520 - 210/520 - 211/520 - 212/520 - 213/520 - 214/520 - 215/520 - 216/520 - 217/520 - 218/520 - 219/520 - 220/520 - 221/520 - 222/520 - 223/520 - 224/520 - 225/520 - 226/520 - 227/520 - 228/520 - 229/520 - 230/520 - 231/520 - 232/520 - 233/520 - 234/520 - 235/520 - 236/520 - 237/520 - 238/520 - 239/520 - 240/520 - 241/520 - 242/520 - 243/520 - 244/520 - 245/520 - 246/520 - 247/520 - 248/520 - 249/520 - 250/520 - 251/520 - 252/520 - 253/520 - 254/520 - 255/520 - 256/520 - 257/520 - 258/520 - 259/520 - 260/520 - 261/520 - 262/520 - 263/520 - 264/520 - 265/520 - 266/520 - 267/520 - 268/520 - 269/520 - 270/520 - 271/520 - 272/520 - 273/520 - 274/520 - 275/520 - 276/520 - 277/520 - 278/520 - 279/520 - 280/520 - 281/520 - 282/520 - 283/520 - 284/520 - 285/520 - 286/520 - 287/520 - 288/520 - 289/520 - 290/520 - 291/520 - 292/520 - 293/520 - 294/520 - 295/520 - 296/520 - 297/520 - 298/520 - 299/520 - 300/520 - 301/520 - 302/520 - 303/520 - 304/520 - 305/520 - 306/520 - 307/520 - 308/520 - 309/520 - 310/520 - 311/520 - 312/520 - 313/520 - 314/520 - 315/520 - 316/520 - 317/520 - 318/520 - 319/520 - 320/520 - 321/520 - 322/520 - 323/520 - 324/520 - 325/520 - 326/520 - 327/520 - 328/520 - 329/520 - 330/520 - 331/520 - 332/520 - 333/520 - 334/520 - 335/520 - 336/520 - 337/520 - 338/520 - 339/520 - 340/520 - 341/520 - 342/520 - 343/520 - 344/520 - 345/520 - 346/520 - 347/520 - 348/520 - 349/520 - 350/520 - 351/520 - 352/520 - 353/520 - 354/520 - 355/520 - 356/520 - 357/520 - 358/520 - 359/520 - 360/520 - 361/520 - 362/520 - 363/520 - 364/520 - 365/520 - 366/520 - 367/520 - 368/520 - 369/520 - 370/520 - 371/520 - 372/520 - 373/520 - 374/520 - 375/520 - 376/520 - 377/520 - 378/520 - 379/520 - 380/520 - 381/520 - 382/520 - 383/520 - 384/520 - 385/520 - 386/520 - 387/520 - 388/520 - 389/520 - 390/520 - 391/520 - 392/520 - 393/520 - 394/520 - 395/520 - 396/520 - 397/520 - 398/520 - 399/520 - 400/520 - 401/520 - 402/520 - 403/520 - 404/520 - 405/520 - 406/520 - 407/520 - 408/520 - 409/520 - 410/520 - 411/520 - 412/520 - 413/520 - 414/520 - 415/520 - 416/520 - 417/520 - 418/520 - 419/520 - 420/520 - 421/520 - 422/520 - 423/520 - 424/520 - 425/520 - 426/520 - 427/520 - 428/520 - 429/520 - 430/520 - 431/520 - 432/520 - 433/520 - 434/520 - 435/520 - 436/520 - 437/520 - 438/520 - 439/520 - 440/520 - 441/520 - 442/520 - 443/520 - 444/520 - 445/520 - 446/520 - 447/520 - 448/520 - 449/520 - 450/520 - 451/520 - 452/520 - 453/520 - 454/520 - 455/520 - 456/520 - 457/520 - 458/520 - 459/520 - 460/520 - 461/520 - 462/520 - 463/520 - 464/520 - 465/520 - 466/520 - 467/520 - 468/520 - 469/520 - 470/520 - 471/520 - 472/520 - 473/520 - 474/520 - 475/520 - 476/520 - 477/520 - 478/520 - 479/520 - 480/520 - 481/520 - 482/520 - 483/520 - 484/520 - 485/520 - 486/520 - 487/520 - 488/520 - 489/520 - 490/520 - 491/520 - 492/520 - 493/520 - 494/520 - 495/520 - 496/520 - 497/520 - 498/520 - 499/520 - 500/520 - 501/520 - 502/520 - 503/520 - 504/520 - 505/520 - 506/520 - 507/520 - 508/520 - 509/520 - 510/520 - 511/520 - 512/520 - 513/520 - 514/520 - 515/520 - 516/520 - 517/520 - 518/520 - 519/520 - 520/520 - 2\n"
     ]
    },
    {
     "name": "stdout",
     "output_type": "stream",
     "text": [
      "1/520 - 2/520 - 3/520 - 4/520 - 5/520 - 6/520 - 7/520 - 8/520 - 9/520 - 10/520 - 11/520 - 12/520 - 13/520 - 14/520 - 15/520 - 16/520 - 17/520 - 18/520 - 19/520 - 20/520 - 21/520 - 22/520 - 23/520 - 24/520 - 25/520 - 26/520 - 27/520 - 28/520 - 29/520 - 30/520 - 31/520 - 32/520 - 33/520 - 34/520 - 35/520 - 36/520 - 37/520 - 38/520 - 39/520 - 40/520 - 41/520 - 42/520 - 43/520 - 44/520 - 45/520 - 46/520 - 47/520 - 48/520 - 49/520 - 50/520 - 51/520 - 52/520 - 53/520 - 54/520 - 55/520 - 56/520 - 57/520 - 58/520 - 59/520 - 60/520 - 61/520 - 62/520 - 63/520 - 64/520 - 65/520 - 66/520 - 67/520 - 68/520 - 69/520 - 70/520 - 71/520 - 72/520 - 73/520 - 74/520 - 75/520 - 76/520 - 77/520 - 78/520 - 79/520 - 80/520 - 81/520 - 82/520 - 83/520 - 84/520 - 85/520 - 86/520 - 87/520 - 88/520 - 89/520 - 90/520 - 91/520 - 92/520 - 93/520 - 94/520 - 95/520 - 96/520 - 97/520 - 98/520 - 99/520 - 100/520 - 101/520 - 102/520 - 103/520 - 104/520 - 105/520 - 106/520 - 107/520 - 108/520 - 109/520 - 110/520 - 111/520 - 112/520 - 113/520 - 114/520 - 115/520 - 116/520 - 117/520 - 118/520 - 119/520 - 120/520 - 121/520 - 122/520 - 123/520 - 124/520 - 125/520 - 126/520 - 127/520 - 128/520 - 129/520 - 130/520 - 131/520 - 132/520 - 133/520 - 134/520 - 135/520 - 136/520 - 137/520 - 138/520 - 139/520 - 140/520 - 141/520 - 142/520 - 143/520 - 144/520 - 145/520 - 146/520 - 147/520 - 148/520 - 149/520 - 150/520 - 151/520 - 152/520 - 153/520 - 154/520 - 155/520 - 156/520 - 157/520 - 158/520 - 159/520 - 160/520 - 161/520 - 162/520 - 163/520 - 164/520 - 165/520 - 166/520 - 167/520 - 168/520 - 169/520 - 170/520 - 171/520 - 172/520 - 173/520 - 174/520 - 175/520 - 176/520 - 177/520 - 178/520 - 179/520 - 180/520 - 181/520 - 182/520 - 183/520 - 184/520 - 185/520 - 186/520 - 187/520 - 188/520 - 189/520 - 190/520 - 191/520 - 192/520 - 193/520 - 194/520 - 195/520 - 196/520 - 197/520 - 198/520 - 199/520 - 200/520 - 201/520 - 202/520 - 203/520 - 204/520 - 205/520 - 206/520 - 207/520 - 208/520 - 209/520 - 210/520 - 211/520 - 212/520 - 213/520 - 214/520 - 215/520 - 216/520 - 217/520 - 218/520 - 219/520 - 220/520 - 221/520 - 222/520 - 223/520 - 224/520 - 225/520 - 226/520 - 227/520 - 228/520 - 229/520 - 230/520 - 231/520 - 232/520 - 233/520 - 234/520 - 235/520 - 236/520 - 237/520 - 238/520 - 239/520 - 240/520 - 241/520 - 242/520 - 243/520 - 244/520 - 245/520 - 246/520 - 247/520 - 248/520 - 249/520 - 250/520 - 251/520 - 252/520 - 253/520 - 254/520 - 255/520 - 256/520 - 257/520 - 258/520 - 259/520 - 260/520 - 261/520 - 262/520 - 263/520 - 264/520 - 265/520 - 266/520 - 267/520 - 268/520 - 269/520 - 270/520 - 271/520 - 272/520 - 273/520 - 274/520 - 275/520 - 276/520 - 277/520 - 278/520 - 279/520 - 280/520 - 281/520 - 282/520 - 283/520 - 284/520 - 285/520 - 286/520 - 287/520 - 288/520 - 289/520 - 290/520 - 291/520 - 292/520 - 293/520 - 294/520 - 295/520 - 296/520 - 297/520 - 298/520 - 299/520 - 300/520 - 301/520 - 302/520 - 303/520 - 304/520 - 305/520 - 306/520 - 307/520 - 308/520 - 309/520 - 310/520 - 311/520 - 312/520 - 313/520 - 314/520 - 315/520 - 316/520 - 317/520 - 318/520 - 319/520 - 320/520 - 321/520 - 322/520 - 323/520 - 324/520 - 325/520 - 326/520 - 327/520 - 328/520 - 329/520 - 330/520 - 331/520 - 332/520 - 333/520 - 334/520 - 335/520 - 336/520 - 337/520 - 338/520 - 339/520 - 340/520 - 341/520 - 342/520 - 343/520 - 344/520 - 345/520 - 346/520 - 347/520 - 348/520 - 349/520 - 350/520 - 351/520 - 352/520 - 353/520 - 354/520 - 355/520 - 356/520 - 357/520 - 358/520 - 359/520 - 360/520 - 361/520 - 362/520 - 363/520 - 364/520 - 365/520 - 366/520 - 367/520 - 368/520 - 369/520 - 370/520 - 371/520 - 372/520 - 373/520 - 374/520 - 375/520 - 376/520 - 377/520 - 378/520 - 379/520 - 380/520 - 381/520 - 382/520 - 383/520 - 384/520 - 385/520 - 386/520 - 387/520 - 388/520 - 389/520 - 390/520 - 391/520 - 392/520 - 393/520 - 394/520 - 395/520 - 396/520 - 397/520 - 398/520 - 399/520 - 400/520 - 401/520 - 402/520 - 403/520 - 404/520 - 405/520 - 406/520 - 407/520 - 408/520 - 409/520 - 410/520 - 411/520 - 412/520 - 413/520 - 414/520 - 415/520 - 416/520 - 417/520 - 418/520 - 419/520 - 420/520 - 421/520 - 422/520 - 423/520 - 424/520 - 425/520 - 426/520 - 427/520 - 428/520 - 429/520 - 430/520 - 431/520 - 432/520 - 433/520 - 434/520 - 435/520 - 436/520 - 437/520 - 438/520 - 439/520 - 440/520 - 441/520 - 442/520 - 443/520 - 444/520 - 445/520 - 446/520 - 447/520 - 448/520 - 449/520 - 450/520 - 451/520 - 452/520 - 453/520 - 454/520 - 455/520 - 456/520 - 457/520 - 458/520 - 459/520 - 460/520 - 461/520 - 462/520 - 463/520 - 464/520 - 465/520 - 466/520 - 467/520 - 468/520 - 469/520 - 470/520 - 471/520 - 472/520 - 473/520 - 474/520 - 475/520 - 476/520 - 477/520 - 478/520 - 479/520 - 480/520 - 481/520 - 482/520 - 483/520 - 484/520 - 485/520 - 486/520 - 487/520 - 488/520 - 489/520 - 490/520 - 491/520 - 492/520 - 493/520 - 494/520 - 495/520 - 496/520 - 497/520 - 498/520 - 499/520 - 500/520 - 501/520 - 502/520 - 503/520 - 504/520 - 505/520 - 506/520 - 507/520 - 508/520 - 509/520 - 510/520 - 511/520 - 512/520 - 513/520 - 514/520 - 515/520 - 516/520 - 517/520 - 518/520 - 519/520 - 520/520 - CPU times: user 1h 9min 33s, sys: 45.4 s, total: 1h 10min 18s\n",
      "Wall time: 1h 18min 45s\n"
     ]
    }
   ],
   "source": [
    "%%time\n",
    "lambda_g = 4000\n",
    "k = 5\n",
    "info_k_dist = {}\n",
    "max_m = len(graphs.keys())\n",
    "r_bb = {}\n",
    "for q in range(3):\n",
    "    print(q)\n",
    "    m = 1\n",
    "    r_bb_i = {}\n",
    "    for oname,v in graphs.items():\n",
    "        print('{}/{}'.format(m,max_m), end=' - ')\n",
    "        m+=1\n",
    "        g = v[1]\n",
    "        y_hat = oracle(g)\n",
    "        gc_name = dataset_d[oname]\n",
    "        gc = graphs[gc_name][1]\n",
    "        d_initial = edit_distance(g,gc)\n",
    "        gc2,d,l,info = k_backward(g,gc,abs(1-y_hat))\n",
    "        info = sum(info.values(), [])\n",
    "        d_final = edit_distance(g,gc2)\n",
    "        r_bb_i[oname] = [d_final,l,y_hat,d_initial,info,gc2]\n",
    "    r_bb[q] = r_bb_i"
   ]
  },
  {
   "cell_type": "code",
   "execution_count": 83,
   "metadata": {},
   "outputs": [],
   "source": [
    "## Save results\n",
    "OUTPUTPATH = '/Users/Carlo/graphcounterfactuals/code/ADHD/Results/contrast/'\n",
    "MODEL = 'Contrast'\n",
    "best_embed_dim = 'all'\n",
    "import pickle\n",
    "\n",
    "with open(OUTPUTPATH+'adhd_contrast_svm_bb.pickle', 'wb') as handle:\n",
    "    pickle.dump(r_bb, handle, protocol=pickle.HIGHEST_PROTOCOL)\n",
    "\n",
    "with open(OUTPUTPATH+'adhd_contrast_svm_bb.pickle', 'rb') as handle:\n",
    "    kd_results = pickle.load(handle)"
   ]
  }
 ],
 "metadata": {
  "colab": {
   "name": "Counterfactual Graphs.ipynb",
   "provenance": []
  },
  "kernelspec": {
   "display_name": "Python 3",
   "language": "python",
   "name": "python3"
  },
  "language_info": {
   "codemirror_mode": {
    "name": "ipython",
    "version": 3
   },
   "file_extension": ".py",
   "mimetype": "text/x-python",
   "name": "python",
   "nbconvert_exporter": "python",
   "pygments_lexer": "ipython3",
   "version": "3.7.6"
  }
 },
 "nbformat": 4,
 "nbformat_minor": 1
}
